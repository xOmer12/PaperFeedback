{
 "cells": [
  {
   "cell_type": "code",
   "execution_count": 2,
   "metadata": {},
   "outputs": [],
   "source": [
    "from pinecone import Pinecone\n",
    "from sentence_transformers import SentenceTransformer\n",
    "import torch\n",
    "import pandas as pd\n",
    "from collections import OrderedDict\n",
    "import numpy as np\n",
    "import random\n",
    "import faiss\n",
    "from sklearn.metrics import precision_score, recall_score, f1_score\n",
    "random.seed(42)"
   ]
  },
  {
   "cell_type": "code",
   "execution_count": 3,
   "metadata": {},
   "outputs": [
    {
     "name": "stdout",
     "output_type": "stream",
     "text": [
      "2015.0\n"
     ]
    }
   ],
   "source": [
    "initial_data = pd.read_csv('/home/student/FinalProject/PaperFeedback/Datasets/acm_citation_network_v8_labeled.csv')\n",
    "network_data = initial_data[initial_data['references'].notna()]\n",
    "network_data=network_data[network_data['abstract'].notna()]\n",
    "max_year=network_data['year'].max()\n",
    "print(max_year)\n",
    "last_year_data=network_data[network_data['year']==max_year]"
   ]
  },
  {
   "cell_type": "code",
   "execution_count": 4,
   "metadata": {},
   "outputs": [],
   "source": [
    "def load_embeddings(embeddings_path):\n",
    "    df = pd.read_csv(embeddings_path)\n",
    "    ids = df['id'].values \n",
    "    embeddings = df.drop(columns=['id']).values.astype('float32')\n",
    "    return ids, embeddings"
   ]
  },
  {
   "cell_type": "code",
   "execution_count": 5,
   "metadata": {},
   "outputs": [],
   "source": [
    "co_cite_ids ,co_cite_embeddings = load_embeddings('/home/student/FinalProject/PaperFeedback/Datasets/co_cite_embeddings.csv')\n",
    "bibliography_coup_ids ,bibliography_coup_embeddings = load_embeddings('/home/student/FinalProject/PaperFeedback/Datasets/bib_coup_embeddings.csv')\n",
    "author_collab_ids ,author_collab_embeddings = load_embeddings('/home/student/FinalProject/PaperFeedback/Datasets/author_colab.csv')"
   ]
  },
  {
   "cell_type": "code",
   "execution_count": 23,
   "metadata": {},
   "outputs": [],
   "source": [
    "id_mapper_string_to_int = dict(zip(initial_data['index'], initial_data['id']))\n",
    "id_mapper_int_to_string = dict(zip(initial_data['id'], initial_data['index']))"
   ]
  },
  {
   "cell_type": "code",
   "execution_count": 7,
   "metadata": {},
   "outputs": [],
   "source": [
    "API_KEY = '703c7c8a-2b8f-46bc-b2f7-ede6b037b3fa'\n",
    "index_name = 'ann-embeddings'\n",
    "TOP_K=100\n",
    "TOP_N=10\n",
    "DOC_NUMBER=50"
   ]
  },
  {
   "cell_type": "code",
   "execution_count": 8,
   "metadata": {},
   "outputs": [],
   "source": [
    "pc = Pinecone(api_key=API_KEY)\n",
    "ann_index = pc.Index(index_name)"
   ]
  },
  {
   "cell_type": "code",
   "execution_count": 9,
   "metadata": {},
   "outputs": [],
   "source": [
    "co_cite_index = faiss.read_index('/home/student/FinalProject/PaperFeedback/Utils/co_cite_index.faiss')\n",
    "author_collab_index = faiss.read_index('/home/student/FinalProject/PaperFeedback/Utils/author_collab_index.faiss')\n",
    "bibliography_coup_index= faiss.read_index('/home/student/FinalProject/PaperFeedback/Utils/bibliography_coup_index.faiss')"
   ]
  },
  {
   "cell_type": "code",
   "execution_count": 10,
   "metadata": {},
   "outputs": [
    {
     "name": "stdout",
     "output_type": "stream",
     "text": [
      "using GPU\n"
     ]
    }
   ],
   "source": [
    "if torch.cuda.is_available():\n",
    "    print('using GPU')\n",
    "    device = 'cuda'\n",
    "else:\n",
    "    print('using CPUG')\n",
    "    device = 'cpu'    "
   ]
  },
  {
   "cell_type": "code",
   "execution_count": 11,
   "metadata": {},
   "outputs": [
    {
     "name": "stderr",
     "output_type": "stream",
     "text": [
      "/home/student/.local/lib/python3.8/site-packages/transformers/tokenization_utils_base.py:1601: FutureWarning: `clean_up_tokenization_spaces` was not set. It will be set to `True` by default. This behavior will be depracted in transformers v4.45, and will be then set to `False` by default. For more details check this issue: https://github.com/huggingface/transformers/issues/31884\n",
      "  warnings.warn(\n"
     ]
    }
   ],
   "source": [
    "model = SentenceTransformer('all-MiniLM-L6-v2')\n",
    "model = model.to(device)"
   ]
  },
  {
   "cell_type": "markdown",
   "metadata": {},
   "source": [
    "## Sample random papers that have references"
   ]
  },
  {
   "cell_type": "code",
   "execution_count": 12,
   "metadata": {},
   "outputs": [],
   "source": [
    "sampled_documents = last_year_data.sample(n=DOC_NUMBER, random_state=42)"
   ]
  },
  {
   "cell_type": "markdown",
   "metadata": {},
   "source": [
    "## find top k closest documents for each document"
   ]
  },
  {
   "cell_type": "code",
   "execution_count": 13,
   "metadata": {},
   "outputs": [],
   "source": [
    "# Create a list to store the results\n",
    "results = []\n",
    "\n",
    "# Loop through each sampled document to locate them in the Pinecone index\n",
    "for _, row in sampled_documents.iterrows():\n",
    "    # Assuming each document has an 'id' or some unique identifier that corresponds to the index\n",
    "    document_index = row['index']  # Replace 'index' with the appropriate column name for your document identifiers\n",
    "\n",
    "    # Create an embedding for the document\n",
    "    embedded_query = model.encode([row['abstract']])  # Replace 'abstract' with the appropriate column name for the text data\n",
    "\n",
    "    # Run the query on Pinecone\n",
    "    response = ann_index.query(\n",
    "        vector=embedded_query.tolist(),  # Convert to list if needed\n",
    "        top_k=TOP_K+1,\n",
    "        include_values=False,\n",
    "        include_metadata=True\n",
    "    )\n",
    "\n",
    "    \n",
    "    # Filter out the original document from the query response\n",
    "    filtered_matches = [match for match in response['matches'] if match['id'] != document_index]\n",
    "    \n",
    "    # Append the results\n",
    "    results.append({\n",
    "        'document': row,\n",
    "        'closest_documents': filtered_matches\n",
    "    })"
   ]
  },
  {
   "cell_type": "markdown",
   "metadata": {},
   "source": [
    "## Rerank docuemnets"
   ]
  },
  {
   "cell_type": "code",
   "execution_count": 14,
   "metadata": {},
   "outputs": [],
   "source": [
    "def rerank_results(results, pc, top_n=5, max_chars=900):\n",
    "    \"\"\"\n",
    "    Reranks results with limited character text.\n",
    "\n",
    "    Args:\n",
    "    - results (list): List of original documents and closest documents.\n",
    "    - pc (object): Inference client object for reranking.\n",
    "    - top_n (int): Number of top documents to return after reranking.\n",
    "    - max_chars (int): Maximum number of characters for abstracts.\n",
    "\n",
    "    Returns:\n",
    "    - reranked_results (list): List containing the reranked documents.\n",
    "    \"\"\"\n",
    "    \n",
    "    def limit_characters(text, max_chars=max_chars):\n",
    "        \"\"\"Limit a text to a specified maximum number of characters.\"\"\"\n",
    "        return text[:max_chars] if len(text) > max_chars else text\n",
    "\n",
    "    # Initialize the reranked results list\n",
    "    reranked_results = []\n",
    "\n",
    "    # Loop through each document in the results\n",
    "    for result in results:\n",
    "        row = result['document']  # The original document\n",
    "        closest_documents = result['closest_documents']  # The closest documents found\n",
    "\n",
    "        # Prepare matches for reranking\n",
    "        matches_with_details = []\n",
    "        for match in closest_documents:\n",
    "            doc_id = match['id']\n",
    "            score = match['score']\n",
    "            \n",
    "            # Retrieve the abstract or any other relevant metadata\n",
    "            abstract = match['metadata'].get('abstract', \"\")  # Use get to avoid KeyError\n",
    "            limited_abstract = limit_characters(abstract, max_chars=max_chars)  # Apply character limit\n",
    "            \n",
    "            # Prepare match info for reranking\n",
    "            match_info = {\n",
    "                'id': doc_id,\n",
    "                'text': limited_abstract\n",
    "            }\n",
    "            matches_with_details.append(match_info)\n",
    "        \n",
    "        # Rerank the documents using the BGE reranker\n",
    "        reranked_documents = pc.inference.rerank(\n",
    "            model=\"bge-reranker-v2-m3\",\n",
    "            query=row['abstract'],  # The original query for reranking\n",
    "            documents=matches_with_details,  # Documents to rerank\n",
    "            top_n=top_n,  # Number of top documents to return\n",
    "            return_documents=True  # Specify whether to return documents\n",
    "        )\n",
    "\n",
    "        # Save the reranked results\n",
    "        reranked_results.append({\n",
    "            'document': row,\n",
    "            'closest_documents': reranked_documents\n",
    "        })\n",
    "    \n",
    "    return reranked_results"
   ]
  },
  {
   "cell_type": "code",
   "execution_count": 15,
   "metadata": {},
   "outputs": [],
   "source": [
    "# Call the rerank_results function\n",
    "reranked_results = rerank_results(results, pc, top_n=TOP_N, max_chars=900)"
   ]
  },
  {
   "cell_type": "code",
   "execution_count": null,
   "metadata": {},
   "outputs": [],
   "source": [
    "# print out the reranked results for each document\n",
    "for reranked_result in reranked_results:\n",
    "    print(\"Original Document:\", reranked_result['document'])\n",
    "    print(\"Reranked Documents:\")\n",
    "    for i, doc in enumerate(reranked_result['closest_documents'].data):\n",
    "        print(str(i+1)+'. id: '+doc['document']['id']+'   score: '+str(doc['score'])+'   abstract: '+doc['document']['text']+'\\n')\n",
    "    print(\"\\n\")"
   ]
  },
  {
   "cell_type": "markdown",
   "metadata": {},
   "source": [
    "## Gnn retrieval based on the TOP_N closest documents for each document from the sample"
   ]
  },
  {
   "cell_type": "code",
   "execution_count": 41,
   "metadata": {},
   "outputs": [],
   "source": [
    "dict_N_docs_closest_int_ids={}\n",
    "# Print out the reranked results for each document\n",
    "for reranked_result in reranked_results:\n",
    "    doc_id = reranked_result['document']['index']\n",
    "    dict_N_docs_closest_int_ids[doc_id]=[id_mapper_string_to_int[doc['document']['id']] for doc in reranked_result['closest_documents'].data]"
   ]
  },
  {
   "cell_type": "code",
   "execution_count": null,
   "metadata": {},
   "outputs": [],
   "source": [
    "k = 3  # number of vectors to retrieve\n",
    "\n",
    "# Initialize OrderedDict to maintain order\n",
    "dict_N_docs_closest_str_ids_co_cite = OrderedDict()\n",
    "dict_N_docs_closest_str_ids_author_collab = OrderedDict()\n",
    "dict_N_docs_closest_str_ids_bibliography_coup = OrderedDict()\n",
    "\n",
    "dict_gnn_items_without_original_ann_docs_co_cite=OrderedDict()\n",
    "dict_gnn_items_without_original_ann_docs_author_collab=OrderedDict()\n",
    "dict_gnn_items_without_original_ann_docs_bibliography_coup=OrderedDict()\n",
    "\n",
    "\n",
    "\n",
    "for doc_id_str, doc_closest_docs in dict_N_docs_closest_int_ids.items():\n",
    "    co_cite_int_ids_closest_docs = OrderedDict()\n",
    "    author_collab_int_ids_closest_docs = OrderedDict()\n",
    "    bibliography_coup_int_ids_closest_docs = OrderedDict()\n",
    "\n",
    "    for close_doc in doc_closest_docs:\n",
    "        str_close_doc = id_mapper_int_to_string[close_doc]\n",
    "\n",
    "        # Co-citation\n",
    "        query_co_cite = co_cite_embeddings[close_doc].astype('float32').reshape(1, -1)\n",
    "        distances_co_cite, indices_co_cite = co_cite_index.search(np.ascontiguousarray(query_co_cite), k+1)\n",
    "        co_cite_int_ids_closest_docs[str_close_doc] = [id_mapper_int_to_string[item] for item in indices_co_cite[0][1:]]\n",
    "\n",
    "        # Author collaboration\n",
    "        query_author_collab = author_collab_embeddings[close_doc].astype('float32').reshape(1, -1)\n",
    "        distances_author_collab, indices_author_collab = author_collab_index.search(np.ascontiguousarray(query_author_collab), k+1)\n",
    "        author_collab_int_ids_closest_docs[str_close_doc] = [id_mapper_int_to_string[item] for item in indices_author_collab[0][1:]]\n",
    "\n",
    "        # Bibliography coupling\n",
    "        query_bibliography_coup = bibliography_coup_embeddings[close_doc].astype('float32').reshape(1, -1)\n",
    "        distances_bibliography_coup, indices_bibliography_coup = bibliography_coup_index.search(np.ascontiguousarray(query_bibliography_coup), k+1)\n",
    "        bibliography_coup_int_ids_closest_docs[str_close_doc] = [id_mapper_int_to_string[item] for item in indices_bibliography_coup[0][1:]]\n",
    "\n",
    "    # Store ordered dictionaries\n",
    "    dict_N_docs_closest_str_ids_co_cite[doc_id_str] = co_cite_int_ids_closest_docs\n",
    "    dict_N_docs_closest_str_ids_author_collab[doc_id_str] = author_collab_int_ids_closest_docs\n",
    "    dict_N_docs_closest_str_ids_bibliography_coup[doc_id_str] = bibliography_coup_int_ids_closest_docs"
   ]
  },
  {
   "cell_type": "code",
   "execution_count": 61,
   "metadata": {},
   "outputs": [],
   "source": [
    "def process_closest_docs(dict_of_specific_index):\n",
    "    # Initialize the output dictionaries\n",
    "    dict_of_lists_relevant_gnn_and_ann = {}\n",
    "    dict_of_lists_relevant_only_gnn = {}\n",
    "\n",
    "    # Iterate over each item in the input dictionary\n",
    "    for item in dict_of_specific_index.items():\n",
    "        flattened_list1 = []\n",
    "        flattened_list2 = []\n",
    "\n",
    "        # Process each key-value pair in the inner dictionary\n",
    "        for key, values in item[1].items():\n",
    "            flattened_list1.append(key)  # Append the key to flattened_list1\n",
    "            flattened_list1.extend(values[:2])  # Append the first two values for that key\n",
    "            flattened_list2.extend(values)  # Append all values for that key to flattened_list2\n",
    "\n",
    "        # Save the processed lists into the respective dictionaries\n",
    "        dict_of_lists_relevant_gnn_and_ann[item[0]] = flattened_list1\n",
    "        dict_of_lists_relevant_only_gnn[item[0]] = flattened_list2\n",
    "\n",
    "    # Return the resulting dictionaries\n",
    "    return dict_of_lists_relevant_gnn_and_ann, dict_of_lists_relevant_only_gnn\n",
    "\n",
    "\n",
    "dict_of_lists_relevant_gnn_and_ann_co_cite, dict_of_lists_relevant_only_gnn_co_cite = process_closest_docs(dict_N_docs_closest_str_ids_co_cite)\n",
    "dict_of_lists_relevant_gnn_and_ann_author_collab, dict_of_lists_relevant_only_gnn_author_collab = process_closest_docs(dict_N_docs_closest_str_ids_author_collab)\n",
    "dict_of_lists_relevant_gnn_and_ann_bibliography_coup, dict_of_lists_relevant_only_gnn_bibliography_coup = process_closest_docs(dict_N_docs_closest_str_ids_bibliography_coup)"
   ]
  },
  {
   "cell_type": "code",
   "execution_count": 62,
   "metadata": {},
   "outputs": [
    {
     "name": "stdout",
     "output_type": "stream",
     "text": [
      "{'559147bc0cf232eb904fb961': ['53908b4920f70186a0dbacc4', '53908b4920f70186a0dbacc3', '53908b4920f70186a0dbacc7', '5390a37f20f70186a0e6c397', '5390a37f20f70186a0e6c3fb', '5390a37f20f70186a0e6c405', '55323b9145cec66b6f9da2d8', '558ebe1c0cf2c779a647846b', '55323b9245cec66b6f9da2f1', '55915b220cf232eb904fbe47', '559131230cf232eb904fb2db', '55914ec60cf232eb904fbb1c', '5390a80f20f70186a0e971f9', '5390a80f20f70186a0e971fa', '5390a80f20f70186a0e97164', '5390adfd20f70186a0ec6424', '5390adfd20f70186a0ec642a', '5390adfd20f70186a0ec6428', '53909ed120f70186a0e309fe', '53909ed120f70186a0e30965', '53909ed120f70186a0e309fb', '53909ee020f70186a0e3391a', '53909ee020f70186a0e33923', '53909ee020f70186a0e33919', '5390ae2e20f70186a0ec841b', '539087c720f70186a0d57437', '5390ae2e20f70186a0ec83e1', '5390980720f70186a0e01fcf', '5390980720f70186a0e01fd0', '5390980720f70186a0e01fd2'], '55323b8945cec66b6f9da198': ['5390bf1320f70186a0f50d88', '5390bf1320f70186a0f50d2b', '5390bf1320f70186a0f50d8c', '539087d920f70186a0d61174', '5390b7ff20f70186a0f27b78', '5390b7ff20f70186a0f27b72', '5390980720f70186a0e02cef', '5390980720f70186a0e02d09', '5390980720f70186a0e02d0c', '5390a2be20f70186a0e64d26', '5390a2be20f70186a0e64d22', '5390a2be20f70186a0e64d24', '5390b9d520f70186a0f324bf', '5390b9d520f70186a0f324c7', '558c18580cf23f2dfc59786d', '5390c04520f70186a0f56fbb', '5390c04520f70186a0f56fbc', '5390c04520f70186a0f56fb7', '539099ec20f70186a0e1c2c5', '539099ec20f70186a0e1c2c2', '539099ec20f70186a0e1c308', '5390b0ca20f70186a0ed9bf9', '5390b0ca20f70186a0ed9bf5', '5390b0ca20f70186a0ed9b5d', '5390a1f820f70186a0e5d41d', '5390a1f820f70186a0e5d41c', '5390a1f820f70186a0e5d427', '558b1772612c41e6b9d42ebb', '558b3464612c41e6b9d468f7', '558f3c840cf222bc17bc248d'], '559129920cf232eb904fb0cb': ['5390ba0a20f70186a0f33866', '5390ba0a20f70186a0f33770', '5390ba0a20f70186a0f33868', '5390a5b020f70186a0e7d4a9', '5390a5b020f70186a0e7d4a7', '5390a5b020f70186a0e7d3b0', '558b0eb5612c41e6b9d41be4', '558b382c612c41e6b9d46f83', '558acbc0612c41e6b9d3a59b', '558bddb20cf23f2dfc594896', '558fd6a0612c29c89cd7b708', '558be4a90cf23f2dfc595069', '5390b95420f70186a0f2da10', '558e177e0cf2e66758050def', '5390b95420f70186a0f2da0f', '554cedb80cf21c5c67b8fd2a', '559144970cf232eb904fb876', '554cedb80cf21c5c67b8fd34', '5390ae2e20f70186a0ec8484', '5390ae2e20f70186a0ec8482', '5390ae2e20f70186a0ec8366', '5390b04120f70186a0ed8758', '5390b04120f70186a0ed8757', '5390b04120f70186a0ed875b', '5390afc920f70186a0ed204e', '5390afc920f70186a0ed2055', '5390afc920f70186a0ed2056', '539087cf20f70186a0d5cc9c', '5390b4c420f70186a0efe4e7', '5390b4c420f70186a0efe586'], '55923cea612c4fa28ff7a30a': ['5390a54720f70186a0e7894b', '5390a54720f70186a0e78947', '5390a54720f70186a0e78932', '5390bda020f70186a0f46fb4', '5390bda020f70186a0f46ffc', '5390bda020f70186a0f46fe9', '558ad541612c41e6b9d3b1ce', '558b102b612c41e6b9d41e99', '539087e120f70186a0d65d5b', '558bcc4d612cf642427586bf', '558adfd9612c41e6b9d3c0d4', '558ae2a0612c41e6b9d3c565', '55916b3c0cf2e89307ca9aef', '55323c0a45cec66b6f9db0d8', '55323c0a45cec66b6f9db0d4', '559146700cf2127aa930c7d7', '559135fa0cf232eb904fb448', '55912e770cf232eb904fb224', '5390bfa120f70186a0f52c35', '5390bfa120f70186a0f52c30', '5390bfa120f70186a0f52c34', '5390b0ca20f70186a0edb5e0', '5390b0ca20f70186a0edb5de', '5390b0ca20f70186a0edb5e5', '5390b20120f70186a0ee577f', '5390b20120f70186a0ee5781', '5390b20120f70186a0ee5783', '5390bae620f70186a0f3c76e', '5390bae620f70186a0f3c6cf', '5390bae620f70186a0f3c770'], '5592483a0cf28b1a968ff636': ['539087e120f70186a0d64da3', '539087e120f70186a0d64db3', '5390be6620f70186a0f4cabe', '539087c720f70186a0d5807b', '5390af8920f70186a0ed0163', '5390af8920f70186a0ed0164', '5390879d20f70186a0d433b3', '5390980720f70186a0e02c71', '5390980720f70186a0e02c72', '5390b36120f70186a0ef1600', '5390b36120f70186a0ef1609', '5390b36120f70186a0ef1605', '5390a2e920f70186a0e672b1', '5390a2e920f70186a0e671ec', '5390a2e920f70186a0e672af', '5390880d20f70186a0d7bd46', '5390880d20f70186a0d7bd50', '5390880d20f70186a0d7bd4c', '5390985d20f70186a0e0883b', '5390985d20f70186a0e08841', '5390985d20f70186a0e0883a', '5390a80f20f70186a0e9623a', '5390a80f20f70186a0e96241', '5390a80f20f70186a0e961a0', '539087cb20f70186a0d5ae06', '5390b2d620f70186a0eeb59a', '5390b2d620f70186a0eeb599', '5390bb7b20f70186a0f40846', '5390bb7b20f70186a0f40842', '5390bb7b20f70186a0f40843'], '5543b2f40cf276d80f9048fb': ['53908e0020f70186a0dd434f', '53908e0020f70186a0dd4384', '53908e0020f70186a0dd4385', '5390b1d220f70186a0ee2e4d', '539087cb20f70186a0d5a026', '5390b1d220f70186a0ee2ed7', '5390878e20f70186a0d3a0bb', '539089d220f70186a0d9aebb', '539089d220f70186a0d9aec4', '5390b95520f70186a0f2e90d', '5390b95520f70186a0f2e90f', '5390b95520f70186a0f2e90a', '53909ed120f70186a0e30f9d', '53909ed120f70186a0e30f03', '53909ed120f70186a0e30f9b', '5390aeba20f70186a0ecbdbb', '5390aeba20f70186a0ecbd94', '5390aeba20f70186a0ecbdb8', '5390b1d220f70186a0ee2c67', '5390b1d220f70186a0ee2c48', '5390b1d220f70186a0ee2c6a', '5390972920f70186a0dfa297', '5390972920f70186a0dfa299', '5390972920f70186a0dfa294', '5390b72e20f70186a0f21ce6', '5390b72e20f70186a0f21ced', '5390b72e20f70186a0f21c9f', '5390bd1520f70186a0f452fa', '539087dd20f70186a0d640f5', '5390bd1520f70186a0f452bb'], '55323d8045cec66b6f9de8a7': ['5390ab8820f70186a0eb10d6', '5390ab8820f70186a0eb1046', '5390ab8820f70186a0eb104a', '53908bad20f70186a0dc33d3', '53908bad20f70186a0dc33c4', '53908bad20f70186a0dc33dc', '53909ee020f70186a0e3334b', '53909ee020f70186a0e33436', '53909ee020f70186a0e33434', '53909f8c20f70186a0e3f02e', '53909f8c20f70186a0e3f030', '53909f8c20f70186a0e3f033', '5390995d20f70186a0e15861', '5390995d20f70186a0e1585c', '5390995d20f70186a0e15857', '5390b00c20f70186a0ed4f68', '5390b00c20f70186a0ed4f6f', '5390b00c20f70186a0ed4fa9', '539099a220f70186a0e18ed5', '539087a120f70186a0d457fb', '539099a220f70186a0e18e6a', '5390aa7620f70186a0eaad4a', '5390aa7620f70186a0eaad4b', '5390aa7620f70186a0eaadd6', '5390a05a20f70186a0e4a2f4', '5390a05a20f70186a0e4a2f3', '5390a05a20f70186a0e4a2f9', '558b0550612c41e6b9d408e7', '558ad25a612c41e6b9d3ae21', '539087e720f70186a0d68799'], '55913bae0cf232eb904fb60e': ['5390a30b20f70186a0e6a849', '5390a30b20f70186a0e6a844', '5390a30b20f70186a0e6a84a', '559009130cf2e9668dc4d97d', '558b8e9d612c6b62e5e8b7b9', '558d00090cf2b0acc6503c46', '55323c7445cec66b6f9dc279', '5591650b0cf2e89307ca98a0', '559165850cf2e89307ca98c2', '558b35cf612c41e6b9d46bc9', '558bd32f0cf20e727d0f24be', '539087e720f70186a0d67d7a', '5390aeba20f70186a0ec99c5', '5390aeba20f70186a0ec9939', '5390aeba20f70186a0ec99bf', '539087c320f70186a0d55d33', '5390ad0720f70186a0ebae32', '5390ad0720f70186a0ebae3d', '539087d420f70186a0d5fa0e', '5390b64020f70186a0f18fb3', '5390b64020f70186a0f18fa8', '5390b52620f70186a0f0451a', '5390b52620f70186a0f04518', '5390b52620f70186a0f04465', '5390bded20f70186a0f496df', '539087dd20f70186a0d648b0', '5390bded20f70186a0f496de', '5390a93b20f70186a0ea0b04', '5390a93b20f70186a0ea0b0a', '5390a93b20f70186a0ea0b0b'], '559249410cf28b1a968ff6cb': ['5390ad5620f70186a0ebf031', '5390ad5620f70186a0ebf02e', '5390ad5620f70186a0ebf02b', '53908cde20f70186a0dcee6e', '53908cde20f70186a0dcee73', '53908cde20f70186a0dcee72', '5390a28020f70186a0e61485', '539087ae20f70186a0d4ccd2', '5390a28020f70186a0e61486', '539096cb20f70186a0df6f0b', '539096cb20f70186a0df6f0c', '5390879920f70186a0d41d40', '53908adf20f70186a0dac112', '53908adf20f70186a0dac11a', '53908adf20f70186a0dac116', '539098b820f70186a0e0a996', '539098b820f70186a0e0a993', '539098b820f70186a0e0a98f', '53908cde20f70186a0dcee83', '53908cde20f70186a0dcee84', '53908cde20f70186a0dcee95', '5390879520f70186a0d3f297', '53908cde20f70186a0dcef23', '53908cde20f70186a0dcef25', '5390a40520f70186a0e6f314', '5390a40520f70186a0e6f30d', '5390a40520f70186a0e6f328', '558d0e56e4b0bb3102a0ce23', '5390a40520f70186a0e704b4', '5390a40520f70186a0e7057d'], '55923d3f612c4fa28ff7a364': ['5390aeba20f70186a0eca453', '5390aeba20f70186a0eca454', '5390aeba20f70186a0eca45c', '5390a06e20f70186a0e4bd7f', '5390a06e20f70186a0e4bcea', '5390a06e20f70186a0e4bd81', '5390b95520f70186a0f2e978', '5390b95520f70186a0f2ea80', '5390b95520f70186a0f2ea83', '539087cf20f70186a0d5c429', '558fe9ba612c29c89cd7c2b3', '5390b44620f70186a0ef9070', '5390b78a20f70186a0f24e3d', '5590a3940cf2ce4b6f39e6e0', '539087d920f70186a0d60cdf', '5390bed320f70186a0f4d9bd', '5390bed320f70186a0f4d975', '5390bed320f70186a0f4d974', '539087af20f70186a0d4ed47', '5390a4d020f70186a0e75fc8', '5390a4d020f70186a0e75fc7', '5390a96e20f70186a0ea281f', '5390a96e20f70186a0ea27be', '5390a96e20f70186a0ea2819', '5390ad5620f70186a0ebd472', '5390ad5620f70186a0ebd46e', '5390ad5620f70186a0ebd55c', '5390c04520f70186a0f55e70', '5390c04520f70186a0f55e6d', '5390c04520f70186a0f55e6b'], '55913a3b0cf2127aa930c41b': ['5390879d20f70186a0d450f0', '5390995d20f70186a0e149e7', '5390995d20f70186a0e149e6', '5390879920f70186a0d410e5', '5390879920f70186a0d410f7', '5390958a20f70186a0def552', '5390881d20f70186a0d82d9e', '5390881d20f70186a0d82da3', '5390881d20f70186a0d82d5c', '558d756d0cf2af9ee80e9463', '539087f320f70186a0d6fd6e', '539087f320f70186a0d6fd6d', '539088b920f70186a0d91768', '5390878e20f70186a0d38e67', '539088b920f70186a0d91769', '5390a17720f70186a0e53cc5', '5390a17720f70186a0e53cc8', '5390877f20f70186a0d2f408', '5390ae2e20f70186a0ec71e6', '5390ae2e20f70186a0ec71dd', '539087c720f70186a0d5723f', '53908f5b20f70186a0dd935a', '53908f5b20f70186a0dd9357', '53908f5b20f70186a0dd9359', '539087f920f70186a0d73369', '539087f920f70186a0d73368', '539087f920f70186a0d73375', '5390878a20f70186a0d3736f', '5390881720f70186a0d8062c', '5390881720f70186a0d805e6'], '559125b00cf232eb904fafd4': ['5390b3ae20f70186a0ef328b', '5390b3ae20f70186a0ef31fd', '5390b3ae20f70186a0ef3286', '5390a8dc20f70186a0e9f408', '539087be20f70186a0d530d8', '5390a8dc20f70186a0e9f340', '5390a74f20f70186a0e8ba2c', '5390a74f20f70186a0e8ba3b', '539087b320f70186a0d50f4d', '558d6fab0cf2e66758050242', '5390956e20f70186a0ded865', '558f37f70cf222bc17bc1ed8', '5390aa0f20f70186a0ea87c9', '5390aa0f20f70186a0ea87ab', '5390aa0f20f70186a0ea87c7', '53909eef20f70186a0e36375', '53909eef20f70186a0e3634b', '53909eef20f70186a0e36348', '558d01230cf2b0acc6503cb1', '53909fbc20f70186a0e41b53', '53909fbc20f70186a0e41b4f', '53908b1820f70186a0db492c', '53908b1820f70186a0db492d', '53908b1820f70186a0db4882', '5390b68720f70186a0f1c574', '5390b68720f70186a0f1c635', '5390b68720f70186a0f1c638', '53909eef20f70186a0e35cb9', '53909eef20f70186a0e35c21', '53909eef20f70186a0e35cba'], '55323d0e45cec66b6f9dd6b6': ['5590c2e20cf237666fc28615', '558ceafae4b0bb3102a0c981', '558ae0a0612c41e6b9d3c1af', '558b836d612c6b62e5e8a67c', '558b1f9c612c41e6b9d44066', '558af54b612c41e6b9d3e9fd', '5390b04120f70186a0ed6cc0', '5390b04120f70186a0ed6cb0', '5390b04120f70186a0ed6cb8', '55323d0e45cec66b6f9dd6bf', '55323d0e45cec66b6f9dd6ce', '55323d0e45cec66b6f9dd6b4', '5390ad8920f70186a0ebf211', '539087c720f70186a0d564a9', '5390ad8920f70186a0ebf250', '5390bb1d20f70186a0f3d32c', '5390bb1d20f70186a0f3d338', '5390bb1d20f70186a0f3d30d', '5390b52620f70186a0f036a2', '5390b52620f70186a0f0369b', '5390b52620f70186a0f036d0', '539087dd20f70186a0d6328a', '5390bae520f70186a0f3b7e5', '5390bae520f70186a0f3b7e3', '5390bae520f70186a0f3af19', '5390bae520f70186a0f3af12', '5390bae520f70186a0f3af1b', '5390b7fe20f70186a0f25f81', '5390b7fe20f70186a0f26028', '5390b7fe20f70186a0f25f7d'], '55916fe70cf2e89307ca9cca': ['5390bda020f70186a0f47dc6', '5390bda020f70186a0f47d38', '5390bda020f70186a0f47d33', '5390b8d720f70186a0f2c379', '5390b8d720f70186a0f2c45d', '539087d920f70186a0d61904', '5390a1f820f70186a0e5de56', '5390a1f820f70186a0e5dd7e', '539087ae20f70186a0d4c7d4', '558af95c612c41e6b9d3f30b', '558b5573612c41e6b9d497e3', '539087e120f70186a0d66ded', '5390bb7b20f70186a0f3f430', '5390bb7b20f70186a0f3f42d', '5390bb7b20f70186a0f3f431', '558b79be612c6b62e5e8973c', '558b2f99612c41e6b9d460ae', '558affc9612c41e6b9d3fefd', '5390b63320f70186a0f17911', '559002dc612c29c89cd7ce32', '558c31d50cf25dbdbb052880', '5390b4c320f70186a0efdcff', '539087cf20f70186a0d5cbbd', '5390b4c320f70186a0efdd81', '5390879220f70186a0d3db1f', '53908b9320f70186a0dc02a4', '53908b9320f70186a0dc01e9', '53909eef20f70186a0e366e0', '53909eef20f70186a0e366e1', '53909eef20f70186a0e366db'], '559256510cf2aff368683c65': ['5390a40520f70186a0e6f816', '5390a40520f70186a0e6f7bd', '5390a40520f70186a0e6f7b9', '5390a37f20f70186a0e6ca79', '5390a37f20f70186a0e6ca78', '5390a37f20f70186a0e6cb56', '5390b64020f70186a0f197b0', '5390b64020f70186a0f197b1', '5390b64020f70186a0f197b4', '539087dd20f70186a0d637f8', '5390bb1d20f70186a0f3e83a', '5390bb1d20f70186a0f3e83f', '539087aa20f70186a0d4a023', '5390a01420f70186a0e4671c', '5390a01420f70186a0e4671a', '539087cb20f70186a0d5a850', '5390b24420f70186a0ee7ced', '5590b4b30cf2ce4b6f39f08d', '5390ad5620f70186a0ebed1b', '5390ad5620f70186a0ebed1e', '5390ad5620f70186a0ebed20', '5390aaf920f70186a0eaeb27', '5390aaf920f70186a0eaebab', '5390aaf920f70186a0eaeb1d', '5390a8b120f70186a0e9b0c0', '5390a8b120f70186a0e9b1e7', '5390a8b120f70186a0e9b1e4', '5390879520f70186a0d3e75c', '53908bcc20f70186a0dc65da', '53908bcc20f70186a0dc65db'], '5534d8bb45cedae85c3795fc': ['5390ab8820f70186a0eb0d89', '5390ab8820f70186a0eb0d8d', '5390ab8820f70186a0eb0e7f', '53909e8b20f70186a0e2f133', '53909e8b20f70186a0e2f14c', '53909e8b20f70186a0e2f15c', '53908f5b20f70186a0dd928e', '53908f5b20f70186a0dd9281', '53908f5b20f70186a0dd9354', '5390b4c320f70186a0efdbb9', '558f3bd60cf2e66758051fb7', '5390b4c320f70186a0efdbb7', '539098b820f70186a0e0a099', '539098b820f70186a0e0a094', '55900c050cf2e9668dc4daad', '539087f820f70186a0d7317f', '539087f820f70186a0d7314b', '539087f820f70186a0d73162', '5390b44620f70186a0ef9a3e', '5390b44620f70186a0ef9b2c', '5390b44620f70186a0ef9b30', '5390a1f720f70186a0e5ba1d', '5390a1f720f70186a0e5b916', '539087aa20f70186a0d4c39b', '5390a63c20f70186a0e81e84', '539087b320f70186a0d4ff01', '5390a63c20f70186a0e81e85', '558b899d612c6b62e5e8afd7', '539087e120f70186a0d658d7', '5590e05f0cf2ce4b6f3a0b1a'], '559256d30cf2aff368683cc8': ['5537da0e0cf23ee1cc767bda', '5537da0e0cf23ee1cc767bd8', '5537da0e0cf23ee1cc767bcc', '5390a40520f70186a0e6f5d1', '5390a40520f70186a0e6f5d4', '5390a40520f70186a0e6f5cf', '5390a30b20f70186a0e6a769', '5390a30b20f70186a0e6a7ea', '558ffe940cf2351542718f19', '55323d8745cec66b6f9dea3d', '55323d8745cec66b6f9dea47', '539087e720f70186a0d693e3', '558ae265612c41e6b9d3c4c0', '539087e620f70186a0d67489', '558ad54f612c41e6b9d3b1ee', '5390b78a20f70186a0f24ed4', '539087d920f70186a0d60cda', '5390b78a20f70186a0f24ed3', '5390a40520f70186a0e6f10d', '5390a40520f70186a0e6f154', '5390a40520f70186a0e6f110', '5390b2fc20f70186a0eef6f7', '5390b2fc20f70186a0eef657', '5390b2fc20f70186a0eef6f5', '5390adfd20f70186a0ec6085', '5390adfd20f70186a0ec608c', '5390adfd20f70186a0ec614d', '5390b19020f70186a0ede70b', '5390b19020f70186a0ede704', '5390b19020f70186a0ede705'], '55914b980cf232eb904fba35': ['539095ba20f70186a0df1bc5', '539095ba20f70186a0df1bc6', '539095ba20f70186a0df1b96', '5390bed320f70186a0f4d76f', '5390bed320f70186a0f4d772', '5390bed320f70186a0f4d775', '5390b3ae20f70186a0ef2f7d', '5390b3ae20f70186a0ef2f7b', '5390b3ae20f70186a0ef2eb7', '5390ab8820f70186a0eb0203', '5390ab8820f70186a0eb015f', '5390ab8820f70186a0eb020b', '53909eef20f70186a0e353c2', '53909eef20f70186a0e353c3', '53909eef20f70186a0e353c4', '5390bb1d20f70186a0f3d4f1', '5390bb1d20f70186a0f3d4d4', '5390bb1d20f70186a0f3d4d2', '558b8408612c6b62e5e8a789', '558b7aaf612c6b62e5e89845', '558b42bd612c41e6b9d47914', '5390ad0620f70186a0eba789', '5390ad0620f70186a0eba78d', '5390ad0620f70186a0eba796', '5390ac1820f70186a0eb38d7', '5390ac1820f70186a0eb38af', '5390ac1820f70186a0eb38d6', '5390ba3820f70186a0f35652', '539087dd20f70186a0d628df', '5390ba3820f70186a0f3564d'], '55323c7145cec66b6f9dc19c': ['558d0be2e4b0b692772ca04c', '5390878720f70186a0d35f1e', '5390878720f70186a0d35ede', '5390b72e20f70186a0f20d96', '5390b72e20f70186a0f20d94', '5390b72e20f70186a0f20d99', '5390ada620f70186a0ec3a6c', '5390ada620f70186a0ec39d1', '5390ada620f70186a0ec3a6b', '558ad2b5612c41e6b9d3aed1', '558af0c0612c41e6b9d3e069', '558b015d612c41e6b9d4026e', '539087b320f70186a0d50091', '5390a63c20f70186a0e82ccd', '5390a63c20f70186a0e82cca', '539095ba20f70186a0df1760', '539095ba20f70186a0df1762', '5390879920f70186a0d4159e', '5390bae520f70186a0f3ac52', '5390bae520f70186a0f3ac53', '5390bae520f70186a0f3ac57', '539087dd20f70186a0d63580', '5390bb1d20f70186a0f3d337', '5390bb1d20f70186a0f3d3dd', '5390a05a20f70186a0e4b696', '5390a05a20f70186a0e4b650', '5390a05a20f70186a0e4b695', '53909f8220f70186a0e3d6ea', '558fb3c90cf23638afbe703b', '53909f8220f70186a0e3d72b'], '559167670cf2e89307ca9974': ['5390a1bc20f70186a0e5583e', '5390a1bc20f70186a0e5583b', '5390a1bc20f70186a0e5583a', '5390980720f70186a0e04192', '5390980720f70186a0e0418f', '5390980720f70186a0e04183', '5390aeba20f70186a0ec9c95', '5390aeba20f70186a0ec9daa', '5390aeba20f70186a0ec9dad', '5390a1bc20f70186a0e55929', '5390a1bc20f70186a0e55927', '5390a1bc20f70186a0e55919', '5390aa0e20f70186a0ea7ad4', '5390aa0e20f70186a0ea7b51', '5390aa0e20f70186a0ea7ad5', '5390a7f520f70186a0e931d3', '5390a7f520f70186a0e9312d', '5390a7f520f70186a0e931d8', '5390a6b120f70186a0e85efe', '5390a6b120f70186a0e85efa', '5390a6b120f70186a0e85ef9', '5390a6b120f70186a0e85fb4', '5390a6b120f70186a0e85fb2', '5390a6b120f70186a0e85fb3', '5390a6b120f70186a0e85efc', '5390a6b120f70186a0e85ef9', '5390a6b120f70186a0e85efa', '5390a6b120f70186a0e85f00', '5390a6b120f70186a0e85f04', '558fee9e0cf28af999b57dc2'], '55323d1245cec66b6f9dd799': ['5390ac5720f70186a0eb580e', '539087c320f70186a0d554a5', '5390ac5720f70186a0eb580d', '5390bb7b20f70186a0f400e3', '5390bb7b20f70186a0f400e9', '5390bb7b20f70186a0f400e6', '539087be20f70186a0d52aa5', '5390a8b220f70186a0e9bd9a', '5390a8b220f70186a0e9bd9b', '5390a40520f70186a0e6fc38', '539087ae20f70186a0d4e35a', '5390a40520f70186a0e6fc34', '5390aefc20f70186a0ecd408', '5390aefc20f70186a0ecd40b', '5390aefc20f70186a0ecd40d', '55922e6e0cf2c3a0875c9e37', '55922e700cf2c3a0875c9e38', '55922ebf0cf2c3a0875c9e6e', '539087ae20f70186a0d4e0de', '5390a40520f70186a0e6e639', '558fff1f0cf2e9668dc4d635', '539087d920f70186a0d60e2f', '5390b7fe20f70186a0f26046', '5390b7fe20f70186a0f2604a', '5390b72e20f70186a0f2171e', '5390b72e20f70186a0f21756', '5390b72e20f70186a0f21757', '5590a0620cf25001c36ed352', '558ff863612c29c89cd7ca89', '558cc6c90cf2e852739a1a2d'], '559155840cf232eb904fbcbd': ['5390a25820f70186a0e6063c', '5390a25820f70186a0e6064c', '539087ae20f70186a0d4cba8', '5390878320f70186a0d31a6e', '5390bb1d20f70186a0f3e1ac', '5390bb1d20f70186a0f3e1ae', '5390878320f70186a0d32373', '539087e720f70186a0d68f44', '539087e720f70186a0d68f42', '55323b7545cec66b6f9d9f31', '55323b7545cec66b6f9d9f29', '55323b7445cec66b6f9d9eef', '5390882420f70186a0d890ce', '5390882420f70186a0d890c2', '5390878a20f70186a0d381cf', '5390aca820f70186a0eb7c85', '5390aca820f70186a0eb7c7e', '5390aca820f70186a0eb7c88', '5390a54620f70186a0e77521', '559002940cf28af999b5854c', '5390a54620f70186a0e774b2', '5390878a20f70186a0d381bf', '5390877920f70186a0d2d64d', '5390878a20f70186a0d381cb', '539098dc20f70186a0e0d70f', '539098dc20f70186a0e0d713', '539098dc20f70186a0e0d711', '5390b44620f70186a0ef8495', '5390b44620f70186a0ef83fb', '5390b44620f70186a0ef83fe'], '558e36860cf2c779a6477d70': ['5390b7ff20f70186a0f279ec', '5390b7ff20f70186a0f27a96', '5390b7ff20f70186a0f27a97', '5390b4c420f70186a0efee13', '5390b4c420f70186a0efee23', '5390b4c420f70186a0efee16', '558b39ca612c41e6b9d4734e', '539087e720f70186a0d67836', '558b181c612c41e6b9d4300c', '5390bd1520f70186a0f45343', '5390bda020f70186a0f458ba', '5390bda020f70186a0f458b9', '5390a30b20f70186a0e6938c', '5390a30b20f70186a0e69393', '5390a30b20f70186a0e69305', '539090c420f70186a0dddc21', '539090c420f70186a0dddc2d', '539090c420f70186a0dddc1e', '5390a55520f70186a0e7b7fb', '558fef450cf28af999b57e06', '5390a55520f70186a0e7b7f9', '5390a96e20f70186a0ea2c53', '5390a96e20f70186a0ea2c50', '5390a96e20f70186a0ea2c55', '5390a77d20f70186a0e8f869', '5390a77d20f70186a0e8f86d', '5390a77d20f70186a0e8f86e', '5390adfc20f70186a0ec4799', '5390adfc20f70186a0ec46c0', '5390adfc20f70186a0ec4797'], '559255440cf205530abc96a9': ['5390882120f70186a0d866ab', '5390882120f70186a0d866ac', '5390882120f70186a0d86574', '5390bd1520f70186a0f44ad2', '5390bd1520f70186a0f44a85', '5390bd1520f70186a0f44a8a', '53909ed120f70186a0e2fae6', '53909ed120f70186a0e2faed', '53909ed120f70186a0e2fb0f', '539098dc20f70186a0e0cf5b', '539098dc20f70186a0e0cf59', '539098dc20f70186a0e0cf5c', '53909fbd20f70186a0e43183', '53909fbd20f70186a0e430e5', '53909fbd20f70186a0e43188', '539098dc20f70186a0e0d204', '539098dc20f70186a0e0d16c', '539098dc20f70186a0e0d207', '539098dc20f70186a0e0ce50', '539098dc20f70186a0e0cebb', '539098dc20f70186a0e0ceb9', '539098dc20f70186a0e0d2f4', '539098dc20f70186a0e0d2f2', '539098dc20f70186a0e0d3a8', '5390a01420f70186a0e46b02', '5390a01420f70186a0e46a19', '5390a01420f70186a0e46a11', '5390b8d720f70186a0f2c81d', '5390b8d720f70186a0f2c819', '5390b8d720f70186a0f2c81e'], '5592559b0cf2aff368683bfb': ['53909f6a20f70186a0e3bfc8', '53909f6a20f70186a0e3bfcc', '53909f6a20f70186a0e3bfaf', '5390b64020f70186a0f19303', '5390b64020f70186a0f1930c', '558cedf50cf2b0acc650375b', '5390ac5720f70186a0eb4e55', '5390ac5720f70186a0eb4e59', '539087c320f70186a0d553c1', '539087ae20f70186a0d4cad7', '5390a25820f70186a0e5fe0f', '5390a25820f70186a0e5fe14', '5390ac1820f70186a0eb33d4', '5390ac1820f70186a0eb33d3', '5390ac1820f70186a0eb33d2', '5390b52620f70186a0f039a5', '5390b52620f70186a0f038ce', '5390b52620f70186a0f038d1', '5390a79f20f70186a0e91384', '5390a79f20f70186a0e9140c', '5390a79f20f70186a0e91409', '55323cad45cec66b6f9dca13', '55323cad45cec66b6f9dc9fc', '55323cae45cec66b6f9dca18', '5390bded20f70186a0f4952e', '558fe4ed0cf2e9668dc4ca09', '5390bded20f70186a0f495cc', '5390ae2e20f70186a0ec7372', '5390ae2e20f70186a0ec7370', '5390ae2e20f70186a0ec7371'], '55323b1e45cec66b6f9d95c6': ['5390c04520f70186a0f55a24', '5390c04520f70186a0f55a26', '5390c04520f70186a0f55a25', '5390bded20f70186a0f4a492', '5390bded20f70186a0f4a51d', '5390bded20f70186a0f4a51c', '559234ac612c4fa28ff79e77', '55922dbf0cf2c3a0875c9dc6', '55922de90cf2c3a0875c9de8', '5390ab8820f70186a0eb0088', '5390ab8820f70186a0eb0055', '5390ab8820f70186a0eb005c', '5390a6b120f70186a0e85e63', '5390a6b120f70186a0e85db9', '5390a6b120f70186a0e85dc1', '5390aeba20f70186a0ec9d3d', '5390aeba20f70186a0ec9cff', '5390aeba20f70186a0ec9d3c', '553e6ea30cf2cadf4a0696a7', '553fbfaa0cf2363314908903', '553e6ea30cf2cadf4a0696b2', '5390a2be20f70186a0e650a6', '5390a2be20f70186a0e650ab', '5390a2be20f70186a0e65072', '53909eef20f70186a0e35ce1', '53909eef20f70186a0e35cdd', '53909eef20f70186a0e35ce4', '55323ba345cec66b6f9da4e7', '55323b9d45cec66b6f9da43a', '55323b9d45cec66b6f9da43b'], '55913d410cf232eb904fb678': ['5390adfc20f70186a0ec5148', '5390adfc20f70186a0ec5149', '5390adfc20f70186a0ec5085', '5390bded20f70186a0f49f0a', '558c12970cf2e30013db4fd0', '5390bded20f70186a0f49e29', '5390aefc20f70186a0ecd90b', '5390aefc20f70186a0ecd8fd', '5390aefc20f70186a0ecd90d', '5390a4cc20f70186a0e74b8c', '5390a4cc20f70186a0e74b8e', '5390a4cc20f70186a0e74b51', '5390a37f20f70186a0e6d83e', '5390a37f20f70186a0e6d83d', '5390a37f20f70186a0e6d7ad', '55323c5545cec66b6f9dbd60', '539087e720f70186a0d68e55', '55323c5545cec66b6f9dbd30', '5390b3da20f70186a0ef5a9b', '5390877f20f70186a0d30d9f', '5390b3da20f70186a0ef5a94', '5390bded20f70186a0f49f95', '5390bded20f70186a0f49ead', '5390bded20f70186a0f49f8f', '5390b2fc20f70186a0eee16a', '5390b2fc20f70186a0eee16b', '5390b2fc20f70186a0eee16c', '5390a6d920f70186a0e8658e', '5390a6d920f70186a0e86592', '5390a6d920f70186a0e86594'], '554e3f090cf22ca2c80f9ca7': ['53908b6c20f70186a0dbd936', '53908b6c20f70186a0dbd81b', '53908b6c20f70186a0dbd940', '558b4716612c41e6b9d47ea7', '558b0904612c41e6b9d40ec5', '558b89e9612c6b62e5e8b060', '5390a6d920f70186a0e87107', '5390a6d920f70186a0e870cc', '5390a6d920f70186a0e870c9', '5390b44620f70186a0ef843f', '5390b44620f70186a0ef8440', '5390b44620f70186a0ef834c', '558fd42a612c29c89cd7b5e0', '558fccc6612c29c89cd7b2c4', '558bebf40cf23f2dfc59580a', '5390b72e20f70186a0f20bfe', '539087d920f70186a0d60637', '5390b72e20f70186a0f20bff', '539089d220f70186a0d9acfd', '539089d220f70186a0d9acf8', '539089d220f70186a0d9ace9', '5390a28020f70186a0e60feb', '5390a28020f70186a0e60ff3', '5390a28020f70186a0e610d6', '539087eb20f70186a0d6c0d6', '539087eb20f70186a0d6c0c0', '539087eb20f70186a0d6c0ae', '5390ba0a20f70186a0f32865', '558c22bb0cf2e30013db5a21', '539087d920f70186a0d62386'], '559148230cf232eb904fb973': ['5390a7f620f70186a0e9526c', '5390a7f620f70186a0e95128', '5390a7f620f70186a0e95127', '5390ad5620f70186a0ebe2d8', '558cdded0cf221faa73707b4', '5390ad5620f70186a0ebe2c6', '539099a220f70186a0e18f40', '539099a220f70186a0e18ef4', '539099a220f70186a0e18f3a', '5390bded20f70186a0f48781', '5390bded20f70186a0f487c2', '5390bded20f70186a0f487bb', '5390b19020f70186a0ede6b1', '5390b19020f70186a0ede6ad', '5390b19020f70186a0ede6b3', '53908af920f70186a0daf24e', '53908af920f70186a0daf253', '53908af920f70186a0daf24b', '5390bf1320f70186a0f50cb1', '5390bf1320f70186a0f50cab', '5390bf1320f70186a0f50cae', '558b554b612c41e6b9d4978d', '558b13a4612c41e6b9d42465', '558bf3bf0cf25dbdbb05022b', '5390b29820f70186a0ee9be2', '5390b29820f70186a0ee9be6', '5390b29820f70186a0ee9be5', '5390b0ca20f70186a0eda2c7', '5390b0ca20f70186a0eda2cc', '539087cb20f70186a0d5922b'], '55915c8c0cf232eb904fbeaa': ['5390882d20f70186a0d8e01c', '5390877920f70186a0d2d71b', '5390882d20f70186a0d8e031', '53908b2a20f70186a0db820e', '53908b2a20f70186a0db818a', '53908b2a20f70186a0db8210', '558cf78f0cf2cffe760ce381', '539087cb20f70186a0d59484', '5390b0ca20f70186a0edb8f7', '53908bde20f70186a0dc7780', '558f3cdf0cf2e667580520bd', '53908bde20f70186a0dc784b', '539087f920f70186a0d73692', '539087f920f70186a0d735c0', '539087f920f70186a0d735c2', '539087be20f70186a0d5373c', '5390a96e20f70186a0ea31cf', '5390a96e20f70186a0ea3241', '539098dc20f70186a0e0cc4c', '539098dc20f70186a0e0cc48', '539098dc20f70186a0e0cc47', '5390b8d720f70186a0f2bbc4', '5390b8d720f70186a0f2bc37', '5390b8d720f70186a0f2bc39', '53908cde20f70186a0dcf589', '53908cde20f70186a0dcf587', '53908cde20f70186a0dcf588', '53909f8220f70186a0e3c9ae', '53909f8220f70186a0e3c9af', '539087a520f70186a0d48e01'], '559247ee0cf28b1a968ff600': ['5390b1d220f70186a0ee2f07', '5390b1d220f70186a0ee2f06', '5390b1d220f70186a0ee2f08', '5390958920f70186a0dee22a', '5390958920f70186a0dee1bf', '5390958920f70186a0dee225', '5390ab8820f70186a0eb1488', '5590d25a0cf25001c36ef1f5', '5390ab8820f70186a0eb1477', '539087d920f70186a0d607e8', '5390b72e20f70186a0f21e99', '5390b72e20f70186a0f21f88', '5390b19020f70186a0ededf7', '5390b19020f70186a0ededfa', '5390b19020f70186a0edee00', '558b3192612c41e6b9d4649f', '558b1230612c41e6b9d420ed', '539087e720f70186a0d67a9d', '5390a25820f70186a0e60584', '5390a25820f70186a0e60587', '5390a25820f70186a0e60505', '5390893e20f70186a0d9380e', '5390893e20f70186a0d9380c', '5390893e20f70186a0d93807', '53909fbd20f70186a0e4249f', '53909fbd20f70186a0e4245d', '53909fbd20f70186a0e424a1', '55922e630cf2c3a0875c9e30', '55922ecb0cf2c3a0875c9e7b', '55922ec10cf2c3a0875c9e72'], '55916e9d0cf2e89307ca9c33': ['5390b72e20f70186a0f208e9', '5390b72e20f70186a0f208e3', '5390b72e20f70186a0f208e6', '5390a05920f70186a0e4972e', '5390a05920f70186a0e496d3', '5390a05920f70186a0e49723', '5390a6d920f70186a0e869cf', '5390a6d920f70186a0e868eb', '5390a6d920f70186a0e868e8', '5390877f20f70186a0d316f9', '5390b8d720f70186a0f2ad67', '5390b8d720f70186a0f2ad8c', '5390a8dc20f70186a0e9edd0', '5390a8dc20f70186a0e9edcc', '5390a8dc20f70186a0e9edd2', '5390879520f70186a0d3f8fe', '53908e0020f70186a0dd4d20', '53908e0020f70186a0dd4d1b', '5390b4da20f70186a0f00446', '5390b4da20f70186a0f00447', '5390b4da20f70186a0f00445', '5390a01420f70186a0e47178', '5390a01420f70186a0e4717a', '5390a01420f70186a0e47174', '5390975920f70186a0dfca2e', '5390975920f70186a0dfca32', '5390975920f70186a0dfca2f', '5390a1e620f70186a0e59efe', '5390a1e620f70186a0e59dee', '5390a1e620f70186a0e59ef9'], '55323d5145cec66b6f9de17f': ['5390877920f70186a0d2e54a', '5390962020f70186a0df5a8a', '5390962020f70186a0df5a83', '53909e8b20f70186a0e2df8d', '53909e8b20f70186a0e2df88', '53909e8b20f70186a0e2df0f', '5390880d20f70186a0d7b7ef', '5390880d20f70186a0d7b7b6', '5390880d20f70186a0d7b7f0', '5390a06e20f70186a0e4d1a8', '5390a06e20f70186a0e4d20a', '5390a06e20f70186a0e4d1a4', '53909f2d20f70186a0e3925f', '53909f2d20f70186a0e39277', '53909f2d20f70186a0e39260', '558f9d7b0cf2e0e37c4f39c3', '558ff2960cf2351542718af2', '558fa8960cf2e0e37c4f3d21', '5390a72320f70186a0e8b260', '5390a72320f70186a0e8b262', '5390a72320f70186a0e8b18f', '53909eef20f70186a0e36ba8', '53909f2c20f70186a0e3700e', '53909f2c20f70186a0e37011', '5390b20120f70186a0ee5c97', '5390b20120f70186a0ee5c98', '5390b20120f70186a0ee5ca0', '5390b86b20f70186a0f2a27f', '5390b86b20f70186a0f2a284', '5390b86b20f70186a0f2a285'], '55323c3245cec66b6f9db790': ['5390a79f20f70186a0e913e5', '5390a79f20f70186a0e913e4', '5390a79f20f70186a0e91398', '539087be20f70186a0d5239d', '539087be20f70186a0d5239e', '5390a80f20f70186a0e974a6', '558afd88612c41e6b9d3fcb3', '558b65a8612c474f6b490cf0', '558b233d612c41e6b9d44765', '5390bb7b20f70186a0f4064e', '5390bb7b20f70186a0f4064c', '5390bb7b20f70186a0f4064a', '5390bf1320f70186a0f519f2', '5390bf1320f70186a0f519f0', '5390bf1320f70186a0f519af', '5390b0ca20f70186a0edb4f8', '5390b0ca20f70186a0edb4fd', '5390b0ca20f70186a0edb462', '539087c720f70186a0d56e7d', '5390adfc20f70186a0ec50b3', '5390adfc20f70186a0ec5104', '5390aefc20f70186a0ecdf3e', '539087c720f70186a0d57d54', '5390aefc20f70186a0ecdf3f', '5390877f20f70186a0d303f7', '5390ad0720f70186a0ebada3', '539087c320f70186a0d55d26', '5390ac5720f70186a0eb6b8f', '5390ac5720f70186a0eb6afe', '5390877f20f70186a0d30359'], '55323cc045cec66b6f9dcce9': ['558f3d5a0cf2c779a6478fd4', '558d8aa60cf2c779a6476651', '558ffa8e0cf28af999b58361', '558fac710cf2cb5aa7674a17', '558e2b760cf2c779a6477a8d', '558e15ef0cf2af9ee80ea4fd', '53909eef20f70186a0e362ca', '53909eef20f70186a0e362c9', '53909eef20f70186a0e362cd', '53908d6520f70186a0dd0b9e', '5390879520f70186a0d3f407', '53908d6520f70186a0dd0b98', '5390ad5620f70186a0ebe9ab', '5390ad5620f70186a0ebe9ac', '5390ad5620f70186a0ebe8fb', '53909e8a20f70186a0e2d4f0', '53909e8a20f70186a0e2d4eb', '53909e8a20f70186a0e2d4ec', '558ff5a20cf2e9668dc4d22a', '558e1c440cf222bc17bc0b7f', '558fc26c0cf2a50e8d7f0964', '53909fbd20f70186a0e424ce', '53909fbd20f70186a0e42441', '539087a620f70186a0d4993c', '55922f910cf2ceaae74c8f07', '55922f8c0cf2ceaae74c8f00', '539087eb20f70186a0d69d47', '5390adfd20f70186a0ec5df3', '5390adfd20f70186a0ec5df0', '5390adfd20f70186a0ec5df4'], '559133a00cf232eb904fb388': ['5390995c20f70186a0e1444d', '5390995c20f70186a0e143eb', '5390995c20f70186a0e143de', '558af3ee612c41e6b9d3e717', '558b1843612c41e6b9d4307d', '558b2fb6612c41e6b9d46106', '5390b7fe20f70186a0f26879', '5390b7fe20f70186a0f26889', '5390b7fe20f70186a0f2691c', '5390b78a20f70186a0f23363', '5390b78a20f70186a0f23361', '5390877f20f70186a0d3159b', '559161f90cf2e89307ca9792', '559168050cf2e89307ca99bd', '559167820cf2e89307ca9983', '5390a63c20f70186a0e818a0', '5390a63c20f70186a0e8189f', '5390a63c20f70186a0e818a2', '5390b52620f70186a0f0447b', '5390b52620f70186a0f04479', '5390b52620f70186a0f043e2', '5390a88c20f70186a0e994ef', '5390a88c20f70186a0e994ea', '5390a88c20f70186a0e994e3', '5390a7f520f70186a0e93bcd', '5390a7f520f70186a0e93bcf', '5390a7f520f70186a0e93bd4', '5390b95420f70186a0f2df38', '539087d920f70186a0d61b93', '5390b95420f70186a0f2df3b'], '559120e70cf232eb904fae27': ['53908d6520f70186a0dd21c8', '53908d6520f70186a0dd21cb', '53908d6520f70186a0dd21ca', '53909eef20f70186a0e34937', '53909eef20f70186a0e34872', '539087a520f70186a0d47fe7', '5390ad0720f70186a0ebb447', '5390ad0720f70186a0ebb387', '5390ad0720f70186a0ebb38c', '53909f6920f70186a0e3aca7', '539087a520f70186a0d48a4c', '53909f6920f70186a0e3ac48', '5390baa120f70186a0f39915', '5390baa120f70186a0f399c4', '5390baa120f70186a0f399be', '5390ad8920f70186a0ec0657', '539087c720f70186a0d566ee', '5390ad8920f70186a0ec06fe', '5390b95420f70186a0f2e6e9', '5390b95420f70186a0f2e6e8', '5390b95420f70186a0f2e6e7', '5390aca820f70186a0eb7f6a', '5390aca820f70186a0eb7f96', '5390aca820f70186a0eb7f9b', '53908bcc20f70186a0dc5ad3', '53908bcc20f70186a0dc5a05', '53908bcc20f70186a0dc5ad0', '5390af8920f70186a0ed10bd', '5390af8920f70186a0ed10c3', '5390af8920f70186a0ed10be'], '558da0480cf222bc17bbfdc2': ['558d97fd0cf2af9ee80e9ca1', '5591701f0cf2e89307ca9ce4', '539087e720f70186a0d67eeb', '558ceb0c0cf2b0acc6503686', '5592394f612c4fa28ff7a09b', '558ce7d40cf23fdd601e10bc', '5390a8b220f70186a0e9cb65', '5390a8b220f70186a0e9cb66', '5390a8b220f70186a0e9cb62', '5390aefc20f70186a0ecd4ba', '5390aefc20f70186a0ecd4c8', '5390aefc20f70186a0ecd4c7', '5390aefc20f70186a0ecd407', '5390aefc20f70186a0ecd50d', '5390aefc20f70186a0ecd508', '5390b20120f70186a0ee5613', '5390b20120f70186a0ee5617', '5390b20120f70186a0ee55e7', '53909e8a20f70186a0e2cf21', '53909e8a20f70186a0e2ce6b', '558fe6bf0cf28fa910316b62', '539096cb20f70186a0df7265', '539096cb20f70186a0df7266', '539096cb20f70186a0df7269', '5390b13020f70186a0edc3bc', '5390b13020f70186a0edc360', '5390b13020f70186a0edc35e', '5390a54720f70186a0e78c6a', '5390a54720f70186a0e78c64', '5390a54720f70186a0e78c65'], '559159050cf2127aa930cd2b': ['5390b7fe20f70186a0f27170', '5390b7fe20f70186a0f2716d', '558ffd84612c29c89cd7cc34', '5390bf1320f70186a0f5045f', '5390bf1320f70186a0f504e8', '558e9d7a0cf222bc17bc158e', '5390bae620f70186a0f3c4f5', '5390bae620f70186a0f3c593', '5390bae620f70186a0f3c4ec', '5390b71120f70186a0f1ed09', '5390b71120f70186a0f1ec98', '5390b71120f70186a0f1ed10', '558b2e79612c41e6b9d45e81', '558aff6c612c41e6b9d3fe15', '558ae6ad612c41e6b9d3cdca', '5390b29820f70186a0ee98f8', '5390b29820f70186a0ee98fa', '5390b29820f70186a0ee98fc', '558b974a612c6b62e5e8c3d2', '558b5aac612c41e6b9d4a04e', '539087e120f70186a0d66fdc', '5390bf1320f70186a0f50b27', '5390bf1320f70186a0f50b2b', '539087e120f70186a0d6548d', '554a4a520cf2c69e964874d6', '554a4a4e0cf2c69e96487402', '554a4a4e0cf2c69e964873f4', '5390ad0720f70186a0ebb76c', '5390ad0720f70186a0ebb743', '5390ad0720f70186a0ebb772'], '55912d4b0cf232eb904fb1d8': ['5390ab8820f70186a0eaf7ca', '5390ab8820f70186a0eaf7cb', '5390ab8820f70186a0eaf7cd', '5390a80f20f70186a0e971f3', '539087be20f70186a0d5234f', '5390a80f20f70186a0e971fe', '539087e120f70186a0d65cc3', '539087e120f70186a0d65cc0', '5390bfa220f70186a0f54c7c', '558ff96f0cf2e9668dc4d446', '558e2a300cf2e6675805129c', '558ffd110cf2351542718eaf', '5390bf1320f70186a0f5214c', '5390bf1320f70186a0f5214a', '5390878320f70186a0d31db4', '539098dc20f70186a0e0d4b2', '539098dc20f70186a0e0d50e', '539098dc20f70186a0e0d509', '5390881220f70186a0d7e6cd', '5390881220f70186a0d7e6a9', '5390878720f70186a0d34741', '5390a37f20f70186a0e6c35b', '5390a37f20f70186a0e6c353', '5390a37f20f70186a0e6c342', '5390a63c20f70186a0e82a7f', '5390a63c20f70186a0e82a6e', '5390a63c20f70186a0e82a7e', '5390ba3820f70186a0f373fa', '5390ba3820f70186a0f373ed', '5390ba3820f70186a0f373f7'], '559158070cf2127aa930cce0': ['5390b63320f70186a0f177c9', '5390b63320f70186a0f17718', '5390b63320f70186a0f1770d', '5390be6620f70186a0f4bd3b', '5390be6620f70186a0f4bd35', '5390be6620f70186a0f4bcf1', '558b161e612c41e6b9d42aea', '558b52f1612c41e6b9d49322', '558b2552612c41e6b9d44cd3', '5390bae620f70186a0f3c51f', '5390bae620f70186a0f3c51e', '5390bae620f70186a0f3c51a', '5390be6620f70186a0f4c717', '5390be6620f70186a0f4c6d1', '5390be6620f70186a0f4c71b', '5390ba3820f70186a0f36832', '5390ba3820f70186a0f3683a', '5390ba3820f70186a0f3683d', '5390b0ca20f70186a0ed963b', '539087cb20f70186a0d590c2', '5390b0ca20f70186a0ed963c', '5390b29820f70186a0eea41a', '5390b29820f70186a0eea459', '5390b29820f70186a0eea45c', '5390bf1320f70186a0f4fed5', '5390bed320f70186a0f4fcd4', '5390bf1320f70186a0f4fedc', '5390bd1520f70186a0f439a1', '5390bd1520f70186a0f438ca', '5390bd1520f70186a0f439a3'], '55323b1e45cec66b6f9d95c4': ['558cfa410cf2b0acc6503a63', '558d3f860cf2ffbd8570b88b', '559000b80cf2e9668dc4d6b4', '558b1e8d612c41e6b9d43ea6', '558ce1bf0cf2a2c70f68bef7', '558bfc560cf23f2dfc596550', '5390879920f70186a0d41d38', '558ea3480cf2c779a64781c6', '539096cb20f70186a0df6ecb', '5390aaf920f70186a0eaec97', '5390aaf920f70186a0eaecf8', '5390aaf920f70186a0eaec93', '53908b9320f70186a0dc09de', '53908b9320f70186a0dc0a2e', '53908b9320f70186a0dc0a34', '5390a8b220f70186a0e9c0f8', '5390a8b220f70186a0e9c0ea', '5390a8b220f70186a0e9c0ef', '5390b0ca20f70186a0ed9d30', '5390b0ca20f70186a0ed9d01', '5390b0ca20f70186a0ed9d2c', '539087aa20f70186a0d4a5b9', '5390a05920f70186a0e499ab', '5390a05920f70186a0e499af', '5390975920f70186a0dfdc44', '5390975920f70186a0dfdc4a', '5390975920f70186a0dfdc5b', '5390afc920f70186a0ed261b', '5390afc920f70186a0ed2615', '5390afc920f70186a0ed260e'], '559258c30cf205530abc98ac': ['5390ba3820f70186a0f366e4', '5390ba3820f70186a0f3676a', '5390ba3820f70186a0f366e9', '5390b71120f70186a0f1f3aa', '5390b71120f70186a0f1f3a9', '5390b71120f70186a0f1f3b4', '5390b86b20f70186a0f29880', '539087d920f70186a0d6148b', '5390b86b20f70186a0f2987d', '558afb38612c41e6b9d3f778', '558bcc79612cf64242758711', '558b27a5612c41e6b9d4519c', '5390b04120f70186a0ed89e3', '5390b04120f70186a0ed89e6', '5390b04120f70186a0ed89e4', '5390af8920f70186a0ed064f', '539087c720f70186a0d58113', '5390af8920f70186a0ed0652', '5390bda020f70186a0f46c4c', '5390878320f70186a0d31bb4', '5390bda020f70186a0f46c4f', '5390b8d720f70186a0f2cfca', '5390b8d720f70186a0f2cfc5', '5390b8d720f70186a0f2cfc8', '5390aaf920f70186a0ead0af', '5390aaf920f70186a0ead064', '5390aaf920f70186a0ead0aa', '5390b63320f70186a0f1775b', '539087d420f70186a0d5f7db', '5390b63320f70186a0f17760'], '55323d1045cec66b6f9dd731': ['558ae9b8612c41e6b9d3d3ad', '558b4372612c41e6b9d479a5', '55916a840cf2e89307ca9aae', '5390b56a20f70186a0f06571', '5390b56a20f70186a0f06570', '5390b56a20f70186a0f0655c', '5390ac1820f70186a0eb34ef', '5590cf3b0cf25001c36eefe5', '5390ac1820f70186a0eb34f4', '5390a79f20f70186a0e92a16', '5390a79f20f70186a0e92a15', '5390a79f20f70186a0e92a1c', '5390a1d420f70186a0e58ae2', '5390a1d420f70186a0e58ae4', '5390a1d420f70186a0e589df', '5390b3ae20f70186a0ef3b7d', '5390b3ae20f70186a0ef3b70', '5390b3ae20f70186a0ef3b09', '5390b68720f70186a0f1c003', '5390b68720f70186a0f1bf70', '5390b68720f70186a0f1c009', '5390b04120f70186a0ed6b48', '5390b04120f70186a0ed6c5d', '5390b04120f70186a0ed6c61', '5390a0b720f70186a0e4f06e', '5390a0b720f70186a0e4efc8', '5390a0b720f70186a0e4f06c', '558b922a612c6b62e5e8bca4', '5390c04520f70186a0f55dfc', '558ae4c5612c41e6b9d3ca2d'], '5591329e0cf232eb904fb341': ['5390adfc20f70186a0ec4b32', '5390adfc20f70186a0ec4b30', '5390adfc20f70186a0ec4a37', '53909f8220f70186a0e3df6b', '53909f8220f70186a0e3df69', '53909f8220f70186a0e3df46', '5390a88c20f70186a0e9a454', '5390a88c20f70186a0e9a457', '5390a88c20f70186a0e9a44c', '55323c2c45cec66b6f9db682', '55323c2c45cec66b6f9db689', '55323c2d45cec66b6f9db68d', '5390a5dc20f70186a0e805da', '5390a5dc20f70186a0e805d9', '5390a5dc20f70186a0e80568', '5390a88c20f70186a0e9a6c0', '5390a88c20f70186a0e9a649', '5390a88c20f70186a0e9a647', '5390a79f20f70186a0e91fb1', '5390a79f20f70186a0e91eeb', '5390a79f20f70186a0e91faf', '5390ac1720f70186a0eb2d8a', '5390ac1720f70186a0eb2d23', '5390ac1720f70186a0eb2d84', '5390bded20f70186a0f49828', '5390bded20f70186a0f49822', '558beb2b0cf2e30013db3161', '5390a80e20f70186a0e95c4e', '539087be20f70186a0d520db', '539087be20f70186a0d520dc'], '554e3f0f0cf22ca2c80f9d71': ['5390b95520f70186a0f2ebfc', '5390b95520f70186a0f2ec8d', '5390b95520f70186a0f2ec8a', '558b2b5a612c41e6b9d45801', '558af522612c41e6b9d3e976', '558bd50c0cf23f2dfc593f1a', '5390ba3820f70186a0f35284', '5390ba3820f70186a0f35312', '5390ba3820f70186a0f35309', '539087c320f70186a0d546d6', '5390aa7620f70186a0eac06b', '5390aa7620f70186a0eac070', '5390ada620f70186a0ec1b6c', '5390ada620f70186a0ec1b13', '5390ada620f70186a0ec1b18', '5390b00c20f70186a0ed60b4', '5390b00c20f70186a0ed60b2', '5390b00c20f70186a0ed60c0', '5390b52620f70186a0f03056', '5390b52620f70186a0f0304e', '5390b52620f70186a0f03057', '5390b24420f70186a0ee86c8', '5390b24420f70186a0ee86c6', '5390b24420f70186a0ee8666', '5390bed320f70186a0f4f17f', '539087e120f70186a0d651b6', '5390bed320f70186a0f4f183', '5390ae2e20f70186a0ec737e', '5390ae2e20f70186a0ec737f', '5390ae2e20f70186a0ec7389'], '554505650cf21e970c06b319': ['5390b0ca20f70186a0eda918', '5390b0ca20f70186a0eda915', '5390b0ca20f70186a0eda878', '558b94c7612c6b62e5e8c0a8', '558b00c9612c41e6b9d400d1', '558b5533612c41e6b9d4974d', '558bda2a0cf20e727d0f2d46', '558acd4f612c41e6b9d3a7a6', '5590a1420cf2baaad97150d2', '558fdaec612c29c89cd7b8e1', '558b79c6612c6b62e5e89746', '5590a5450cf2ce4b6f39e804', '5390ba3820f70186a0f37465', '5390ba3820f70186a0f3752d', '5390ba3820f70186a0f3746a', '5390bb1d20f70186a0f3cf5d', '5390bb1d20f70186a0f3cf59', '5390bb1d20f70186a0f3cf58', '5390995d20f70186a0e15356', '5390995d20f70186a0e15357', '5390995d20f70186a0e1535a', '5390a2e920f70186a0e67be2', '539087ae20f70186a0d4d6fb', '5390a2e920f70186a0e67bd9', '558ce1b60cf2cffe760cdc8b', '5390be6620f70186a0f4be1c', '5390be6620f70186a0f4be1a', '5390879d20f70186a0d443c3', '5390879d20f70186a0d443cb', '539098dc20f70186a0e0cb29'], '559121790cf232eb904fae68': ['5390877920f70186a0d2d875', '539089bb20f70186a0d98013', '5390877920f70186a0d2d87c', '5390b36120f70186a0ef17bb', '5390b36120f70186a0ef17b8', '5390b36120f70186a0ef17b2', '539099b320f70186a0e1b679', '539099b320f70186a0e1b67b', '558d56e10cf2ffbd8570bdf5', '5390981d20f70186a0e057a2', '5390879d20f70186a0d43891', '5390879d20f70186a0d4387e', '53908b2a20f70186a0db92bc', '53908b2a20f70186a0db92b5', '53908b2a20f70186a0db9298', '5390baa120f70186a0f3989c', '5390baa120f70186a0f398a0', '5390baa120f70186a0f397ea', '5390ada620f70186a0ec23a3', '5390ada620f70186a0ec23a1', '539087c720f70186a0d569ce', '5390893e20f70186a0d9449a', '5390893e20f70186a0d944ff', '5390893e20f70186a0d944fd', '5390985e20f70186a0e08ab4', '5390985e20f70186a0e08a37', '5390879d20f70186a0d43db5', '558fcce30cf2b02d4688dc31', '55901027612c8aa08ca8b730', '558fa6450cf23638afbe6d55'], '55909b5b0cf28af999b589e4': ['55902fe0612c8aa08ca8c148', '5590bb9b0cf237666fc28169', '55900d410cf235154271934a', '5390882820f70186a0d8b56e', '5390882820f70186a0d8b4e8', '5390882820f70186a0d8b56c', '5390878e20f70186a0d3944f', '539089ab20f70186a0d95666', '539089ab20f70186a0d95671', '5390a96e20f70186a0ea23ba', '5390a96e20f70186a0ea23bd', '5390a96e20f70186a0ea23b5', '5390a8b220f70186a0e9ce1b', '5390a8b220f70186a0e9ce27', '5390a8b220f70186a0e9ce22', '5390995d20f70186a0e1679e', '5390995d20f70186a0e1680d', '539087a120f70186a0d4542c', '5390bae520f70186a0f3b873', '5390bae520f70186a0f3b86a', '5390bae520f70186a0f3b862', '5390aaf920f70186a0eae9cc', '5390aaf920f70186a0eae92b', '5390aaf920f70186a0eae9cd', '5390994d20f70186a0e138a8', '5390994d20f70186a0e138ab', '5390994d20f70186a0e137dc', '539099b320f70186a0e1b86f', '539099b320f70186a0e1b86e', '539099b320f70186a0e1b7c6'], '55323c4845cec66b6f9dbaaa': ['539087b320f70186a0d5121c', '5390a74f20f70186a0e8d218', '558faa780cf23638afbe6e77', '5390b63320f70186a0f1720a', '558fe3b60cf2351542718235', '5390b63320f70186a0f1720b', '558ae7ec612c41e6b9d3cfe2', '558af8d9612c41e6b9d3f20f', '539087e620f70186a0d6753f', '559159c90cf232eb904fbdde', '55913b580cf2127aa930c489', '554b9c2e0cf230e3b86432c4', '5390b63320f70186a0f17124', '5390b63320f70186a0f17183', '5390b63320f70186a0f17175', '53908f5b20f70186a0dda65e', '53908f5b20f70186a0dda692', '53908f5b20f70186a0dda65d', '5390b63320f70186a0f17178', '5390b63320f70186a0f1712e', '5390b63320f70186a0f17129', '53909fca20f70186a0e4607a', '53909fca20f70186a0e4607e', '53909fca20f70186a0e46075', '5390ae2e20f70186a0ec74e5', '5390ae2e20f70186a0ec74e6', '5390ae2e20f70186a0ec74e1', '5390a2e920f70186a0e67470', '5390a2e920f70186a0e67479', '5390a2e920f70186a0e67472']}\n"
     ]
    }
   ],
   "source": [
    "print(dict_of_lists_relevant_only_gnn_co_cite)"
   ]
  },
  {
   "cell_type": "code",
   "execution_count": 84,
   "metadata": {},
   "outputs": [],
   "source": [
    "import numpy as np\n",
    "from scipy.spatial.distance import cosine\n",
    "\n",
    "# Function to calculate cosine similarity between two vectors\n",
    "def cosine_similarity(vec1, vec2):\n",
    "    return 1 - cosine(vec1, vec2)  # Cosine similarity is 1 - cosine distance\n",
    "\n",
    "# Function to sort embeddings by cosine similarity with the first embedding\n",
    "def sort_embeddings_and_ids_by_cosine_similarity(doc_id, embeddings):\n",
    "    # Get the embedding of the first entry in the list (this is the reference embedding)\n",
    "    reference_embedding = embeddings[0][1]\n",
    "    \n",
    "    # Sort the embeddings based on the cosine similarity to the reference embedding\n",
    "    sorted_embeddings = sorted(embeddings, key=lambda x: cosine_similarity(reference_embedding, x[1]), reverse=True)\n",
    "    \n",
    "    # Extract the sorted document IDs (the first element of each tuple in sorted_embeddings)\n",
    "    sorted_doc_ids = [doc for doc, _ in sorted_embeddings]\n",
    "    \n",
    "    return sorted_doc_ids\n",
    "\n",
    "# Define a function that fetches the embeddings based on IDs\n",
    "def extract_embeddings_from_ids(dict_of_lists_relevant_gnn_and_ann, dict_of_lists_relevant_only_gnn):\n",
    "    dict_of_embeddings_gnn_and_ann = {}\n",
    "    dict_of_embeddings_only_gnn = {}\n",
    "    \n",
    "    dict_of_sorted_doc_ids_gnn_and_ann = {}\n",
    "    dict_of_sorted_doc_ids_only_gnn = {}\n",
    "    \n",
    "    # Assuming you have a function to fetch embeddings by document ID (e.g., `get_embedding_by_id`)\n",
    "    for doc_id, relevant_docs_ids in dict_of_lists_relevant_gnn_and_ann.items():\n",
    "        # Fetch embeddings for each document\n",
    "        embeddings = [(doc, ann_index.fetch(ids=[doc])['vectors'][doc]['values']) for doc in relevant_docs_ids]\n",
    "        # Sort the embeddings and extract sorted document IDs\n",
    "        sorted_doc_ids = sort_embeddings_and_ids_by_cosine_similarity(doc_id, embeddings)\n",
    "        dict_of_sorted_doc_ids_gnn_and_ann[doc_id] = sorted_doc_ids\n",
    "        \n",
    "    for doc_id, relevant_docs_ids in dict_of_lists_relevant_only_gnn.items():\n",
    "        # Fetch embeddings for each document\n",
    "        embeddings = [(doc, ann_index.fetch(ids=[doc])['vectors'][doc]['values']) for doc in relevant_docs_ids]\n",
    "        # Sort the embeddings and extract sorted document IDs\n",
    "        sorted_doc_ids = sort_embeddings_and_ids_by_cosine_similarity(doc_id, embeddings)\n",
    "        dict_of_sorted_doc_ids_only_gnn[doc_id] = sorted_doc_ids\n",
    "\n",
    "    return dict_of_sorted_doc_ids_gnn_and_ann, dict_of_sorted_doc_ids_only_gnn\n",
    "\n",
    "\n",
    "\n",
    "# Call the function for each dict and extract the embeddings\n",
    "dict_of_embeddings_relevant_gnn_and_ann_co_cite, dict_of_embeddings_relevant_only_gnn_co_cite = extract_embeddings_from_ids(\n",
    "    dict_of_lists_relevant_gnn_and_ann_co_cite, dict_of_lists_relevant_only_gnn_co_cite)\n",
    "\n",
    "dict_of_embeddings_relevant_gnn_and_ann_author_collab, dict_of_embeddings_relevant_only_gnn_author_collab = extract_embeddings_from_ids(\n",
    "    dict_of_lists_relevant_gnn_and_ann_author_collab, dict_of_lists_relevant_only_gnn_author_collab)\n",
    "\n",
    "dict_of_embeddings_relevant_gnn_and_ann_bibliography_coup, dict_of_embeddings_relevant_only_gnn_bibliography_coup = extract_embeddings_from_ids(\n",
    "    dict_of_lists_relevant_gnn_and_ann_bibliography_coup, dict_of_lists_relevant_only_gnn_bibliography_coup)\n"
   ]
  },
  {
   "cell_type": "markdown",
   "metadata": {},
   "source": [
    "### evaluate gnns"
   ]
  },
  {
   "cell_type": "code",
   "execution_count": 99,
   "metadata": {},
   "outputs": [],
   "source": [
    "def evaluate_reranker_gnn(dict_results):\n",
    "    # Initialize lists to hold true and predicted labels for evaluation\n",
    "    y_true = []\n",
    "    y_pred = []\n",
    "\n",
    "    # Loop through each document in the reranked results\n",
    "    for original_doc_id,retrieved_list in dict_results.items():\n",
    "        # Get the actual references (as a set) from the original document\n",
    "        original_doc = initial_data[initial_data['index'] == original_doc_id]\n",
    "        # print(original_doc['references'].iloc[0].split(';'))\n",
    "        actual_references = set(original_doc['references'].iloc[0].split(';'))\n",
    "\n",
    "        # Create a combined set of all document IDs (true and predicted)\n",
    "        all_ids = actual_references.union(retrieved_list)\n",
    "\n",
    "        # Populate y_true and y_pred for metrics calculation\n",
    "        for doc_id in all_ids:\n",
    "            y_true.append(1 if doc_id in actual_references else 0)\n",
    "            y_pred.append(1 if doc_id in retrieved_list else 0)\n",
    "\n",
    "    # Calculate evaluation metrics\n",
    "    precision = precision_score(y_true, y_pred, average='binary', zero_division=0)\n",
    "    recall = recall_score(y_true, y_pred, average='binary', zero_division=0)\n",
    "    f1 = f1_score(y_true, y_pred, average='binary', zero_division=0)\n",
    "\n",
    "    return precision, recall, f1\n",
    "\n",
    "# Sample code to calculate MRR\n",
    "def mean_reciprocal_rank_gnn(dict_results):\n",
    "    reciprocal_ranks = []\n",
    "    for original_doc_id,retrieved_list in dict_results.items():\n",
    "        original_doc = initial_data[initial_data['index'] == original_doc_id]\n",
    "        # Find the rank of the first relevant document in reranked results\n",
    "        for i, doc in enumerate(retrieved_list):\n",
    "            if doc in original_doc['references'].iloc[0].split(';'):\n",
    "                reciprocal_ranks.append(1 / (i + 1))\n",
    "                break\n",
    "        else:\n",
    "            reciprocal_ranks.append(0)  # No relevant doc found\n",
    "    return np.mean(reciprocal_ranks)\n",
    "\n",
    "# Sample code to calculate MAP\n",
    "def mean_average_precision_gnn(dict_results):\n",
    "    average_precisions = []\n",
    "    for original_doc_id,retrieved_list in dict_results.items():\n",
    "        num_relevant = 0\n",
    "        score_sum = 0\n",
    "        original_doc = initial_data[initial_data['index'] == original_doc_id]\n",
    "        for i, doc in enumerate(retrieved_list):\n",
    "            if doc in original_doc['references'].iloc[0].split(';'):\n",
    "                num_relevant += 1\n",
    "                precision_at_k = num_relevant / (i + 1)\n",
    "                score_sum += precision_at_k\n",
    "        if num_relevant > 0:\n",
    "            average_precisions.append(score_sum / num_relevant)\n",
    "        else:\n",
    "            average_precisions.append(0)\n",
    "    return np.mean(average_precisions)"
   ]
  },
  {
   "cell_type": "markdown",
   "metadata": {},
   "source": [
    "### evaluation original ann reranker:"
   ]
  },
  {
   "cell_type": "code",
   "execution_count": 102,
   "metadata": {},
   "outputs": [],
   "source": [
    "def evaluate_reranker(reranked_results):\n",
    "    # Initialize lists to hold true and predicted labels for evaluation\n",
    "    y_true = []\n",
    "    y_pred = []\n",
    "\n",
    "    # Loop through each document in the reranked results\n",
    "    for reranked_result in reranked_results:\n",
    "        # Get the actual references (as a set) from the original document\n",
    "        actual_references = set(reranked_result['document']['references'].split(';'))\n",
    "        \n",
    "        # Get the reranked document IDs from the closest documents data\n",
    "        predicted_ids = {doc['document']['id'] for doc in reranked_result['closest_documents'].data}\n",
    "\n",
    "        # Create a combined set of all document IDs (true and predicted)\n",
    "        all_ids = actual_references.union(predicted_ids)\n",
    "\n",
    "        # Populate y_true and y_pred for metrics calculation\n",
    "        for doc_id in all_ids:\n",
    "            y_true.append(1 if doc_id in actual_references else 0)\n",
    "            y_pred.append(1 if doc_id in predicted_ids else 0)\n",
    "\n",
    "    # Calculate evaluation metrics\n",
    "    precision = precision_score(y_true, y_pred, average='binary', zero_division=0)\n",
    "    recall = recall_score(y_true, y_pred, average='binary', zero_division=0)\n",
    "    f1 = f1_score(y_true, y_pred, average='binary', zero_division=0)\n",
    "\n",
    "    return precision, recall, f1\n",
    "\n",
    "# Sample code to calculate MRR\n",
    "def mean_reciprocal_rank(results):\n",
    "    reciprocal_ranks = []\n",
    "    for result in results:\n",
    "        # Find the rank of the first relevant document in reranked results\n",
    "        for i, doc in enumerate(result['closest_documents'].data):\n",
    "            if doc['document']['id'] in result['document']['references']:\n",
    "                reciprocal_ranks.append(1 / (i + 1))\n",
    "                break\n",
    "        else:\n",
    "            reciprocal_ranks.append(0)  # No relevant doc found\n",
    "    return np.mean(reciprocal_ranks)\n",
    "\n",
    "# Sample code to calculate MAP\n",
    "def mean_average_precision(results):\n",
    "    average_precisions = []\n",
    "    for result in results:\n",
    "        num_relevant = 0\n",
    "        score_sum = 0\n",
    "        for i, doc in enumerate(result['closest_documents'].data):\n",
    "            if doc['document']['id'] in result['document']['references']:\n",
    "                num_relevant += 1\n",
    "                precision_at_k = num_relevant / (i + 1)\n",
    "                score_sum += precision_at_k\n",
    "        if num_relevant > 0:\n",
    "            average_precisions.append(score_sum / num_relevant)\n",
    "        else:\n",
    "            average_precisions.append(0)\n",
    "    return np.mean(average_precisions)"
   ]
  },
  {
   "cell_type": "code",
   "execution_count": null,
   "metadata": {},
   "outputs": [],
   "source": [
    "#run on 30 docs also to be like other methods with gnn\n",
    "reranked_results_final_ann = rerank_results(results, pc, top_n=30, max_chars=900)"
   ]
  },
  {
   "cell_type": "code",
   "execution_count": 112,
   "metadata": {},
   "outputs": [
    {
     "name": "stdout",
     "output_type": "stream",
     "text": [
      "results for ann_reranker {'precision': 0.03933333333333333, 'recall': 0.14285714285714285, 'f1_score': 0.06168322007318348, 'mrr': 0.21151995226995227, 'map_score': 0.16490257957208942}\n",
      "results for dict_of_embeddings_relevant_gnn_and_ann_co_cite {'precision': 0.02336448598130841, 'recall': 0.0847457627118644, 'f1_score': 0.036630036630036625, 'mrr': 0.17479156399156398, 'map_score': 0.1631167932285579}\n",
      "results for dict_of_embeddings_relevant_only_gnn_co_cite {'precision': 0.0013351134846461949, 'recall': 0.004842615012106538, 'f1_score': 0.002093144950287807, 'mrr': 0.0018859649122807015, 'map_score': 0.0018859649122807015}\n",
      "results for dict_of_embeddings_relevant_gnn_and_ann_author_collab {'precision': 0.02334889926617745, 'recall': 0.0847457627118644, 'f1_score': 0.03661087866108787, 'mrr': 0.17464163614163614, 'map_score': 0.16332885632885635}\n",
      "results for dict_of_embeddings_relevant_only_gnn_author_collab {'precision': 0.00133422281521014, 'recall': 0.004842615012106538, 'f1_score': 0.0020920502092050207, 'mrr': 0.0020855614973262033, 'map_score': 0.0020855614973262033}\n",
      "results for dict_of_embeddings_relevant_gnn_and_ann_bibliography_coup {'precision': 0.02334889926617745, 'recall': 0.0847457627118644, 'f1_score': 0.03661087866108787, 'mrr': 0.17467786802569413, 'map_score': 0.16336508821291432}\n",
      "results for dict_of_embeddings_relevant_only_gnn_bibliography_coup {'precision': 0.00133422281521014, 'recall': 0.004842615012106538, 'f1_score': 0.0020920502092050207, 'mrr': 0.0018219461697722567, 'map_score': 0.0018219461697722567}\n"
     ]
    }
   ],
   "source": [
    "final_evaluation_results={}\n",
    "#firstly only ann reranker results:\n",
    "precision, recall, f1 = evaluate_reranker(reranked_results_final_ann)\n",
    "mrr = mean_reciprocal_rank(reranked_results_final_ann)\n",
    "map_score = mean_average_precision(reranked_results_final_ann)\n",
    "\n",
    "final_evaluation_results['ann_reranker'] = {\n",
    "    'precision': precision,\n",
    "    'recall': recall,\n",
    "    'f1_score': f1,\n",
    "    'mrr': mrr,\n",
    "    'map_score': map_score\n",
    "}\n",
    "print(f'results for ann_reranker {final_evaluation_results[\"ann_reranker\"]}')\n",
    "\n",
    "# List of tuples where each tuple contains a descriptive name and the corresponding dictionary\n",
    "all_dicts = [\n",
    "    (\"dict_of_embeddings_relevant_gnn_and_ann_co_cite\", dict_of_embeddings_relevant_gnn_and_ann_co_cite),\n",
    "    (\"dict_of_embeddings_relevant_only_gnn_co_cite\", dict_of_embeddings_relevant_only_gnn_co_cite),\n",
    "    (\"dict_of_embeddings_relevant_gnn_and_ann_author_collab\", dict_of_embeddings_relevant_gnn_and_ann_author_collab),\n",
    "    (\"dict_of_embeddings_relevant_only_gnn_author_collab\", dict_of_embeddings_relevant_only_gnn_author_collab),\n",
    "    (\"dict_of_embeddings_relevant_gnn_and_ann_bibliography_coup\", dict_of_embeddings_relevant_gnn_and_ann_bibliography_coup),\n",
    "    (\"dict_of_embeddings_relevant_only_gnn_bibliography_coup\", dict_of_embeddings_relevant_only_gnn_bibliography_coup)\n",
    "]\n",
    "\n",
    "for name, gnn_dict in all_dicts:\n",
    "    precision, recall, f1 = evaluate_reranker_gnn(gnn_dict)\n",
    "    mrr = mean_reciprocal_rank_gnn(gnn_dict)\n",
    "    map_score = mean_average_precision_gnn(gnn_dict)\n",
    "    final_evaluation_results[name] = {\n",
    "    'precision': precision,\n",
    "    'recall': recall,\n",
    "    'f1_score': f1,\n",
    "    'mrr': mrr,\n",
    "    'map_score': map_score\n",
    "    }\n",
    "    print(f'results for {name} {final_evaluation_results[name]}')\n",
    "\n"
   ]
  }
 ],
 "metadata": {
  "kernelspec": {
   "display_name": "base",
   "language": "python",
   "name": "python3"
  },
  "language_info": {
   "codemirror_mode": {
    "name": "ipython",
    "version": 3
   },
   "file_extension": ".py",
   "mimetype": "text/x-python",
   "name": "python",
   "nbconvert_exporter": "python",
   "pygments_lexer": "ipython3",
   "version": "3.8.19"
  }
 },
 "nbformat": 4,
 "nbformat_minor": 2
}
