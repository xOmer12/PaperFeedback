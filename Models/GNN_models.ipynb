{
 "cells": [
  {
   "cell_type": "markdown",
   "metadata": {},
   "source": [
    "# Training GNN Models for Graph-Based Inference"
   ]
  },
  {
   "cell_type": "markdown",
   "metadata": {},
   "source": [
    "## Setup and Imports"
   ]
  },
  {
   "cell_type": "code",
   "execution_count": 1,
   "metadata": {},
   "outputs": [],
   "source": [
    "import torch\n",
    "import torch.nn.functional as F\n",
    "from torch_geometric.nn import GCNConv, GATConv\n",
    "from torch_geometric.loader import DataLoader\n",
    "import json\n",
    "import pandas as pd\n",
    "import torch\n",
    "from torch_geometric.data import Data\n",
    "import numpy as np\n",
    "import ast\n",
    "import re\n",
    "import random"
   ]
  },
  {
   "cell_type": "code",
   "execution_count": 2,
   "metadata": {},
   "outputs": [],
   "source": [
    "INIT_DIM = 16\n",
    "NUM_EPOCHS = 5"
   ]
  },
  {
   "cell_type": "code",
   "execution_count": 3,
   "metadata": {},
   "outputs": [],
   "source": [
    "edge_path = '/home/student/FinalProject/PaperFeedback/Graphs/author_collaboration_edge_index'\n",
    "node_path = '/home/student/FinalProject/PaperFeedback/Graphs/author_collaboration_node_index'"
   ]
  },
  {
   "cell_type": "code",
   "execution_count": 4,
   "metadata": {},
   "outputs": [],
   "source": [
    "with open(node_path, 'r') as f:\n",
    "    nodes = json.load(f)\n",
    "\n",
    "with open(edge_path, 'r') as f:\n",
    "    edges = json.load(f)\n",
    "\n"
   ]
  },
  {
   "cell_type": "code",
   "execution_count": 5,
   "metadata": {},
   "outputs": [],
   "source": [
    "labels_df = pd.read_csv('/home/student/FinalProject/PaperFeedback/Datasets/acm_citation_network_v8_labeled.csv')"
   ]
  },
  {
   "cell_type": "code",
   "execution_count": 6,
   "metadata": {},
   "outputs": [
    {
     "data": {
      "text/html": [
       "<div>\n",
       "<style scoped>\n",
       "    .dataframe tbody tr th:only-of-type {\n",
       "        vertical-align: middle;\n",
       "    }\n",
       "\n",
       "    .dataframe tbody tr th {\n",
       "        vertical-align: top;\n",
       "    }\n",
       "\n",
       "    .dataframe thead th {\n",
       "        text-align: right;\n",
       "    }\n",
       "</style>\n",
       "<table border=\"1\" class=\"dataframe\">\n",
       "  <thead>\n",
       "    <tr style=\"text-align: right;\">\n",
       "      <th></th>\n",
       "      <th>Unnamed: 0</th>\n",
       "      <th>index</th>\n",
       "      <th>title</th>\n",
       "      <th>authors</th>\n",
       "      <th>year</th>\n",
       "      <th>venue</th>\n",
       "      <th>references</th>\n",
       "      <th>abstract</th>\n",
       "      <th>id</th>\n",
       "      <th>clustered_labels</th>\n",
       "    </tr>\n",
       "  </thead>\n",
       "  <tbody>\n",
       "    <tr>\n",
       "      <th>0</th>\n",
       "      <td>0</td>\n",
       "      <td>558ac6e0612c41e6b9d39eed</td>\n",
       "      <td>INFORMS Journal on Computing</td>\n",
       "      <td>NaN</td>\n",
       "      <td>2014.0</td>\n",
       "      <td>INFORMS Journal on Computing</td>\n",
       "      <td>NaN</td>\n",
       "      <td>NaN</td>\n",
       "      <td>0</td>\n",
       "      <td>1</td>\n",
       "    </tr>\n",
       "    <tr>\n",
       "      <th>1</th>\n",
       "      <td>1</td>\n",
       "      <td>5390879920f70186a0d422b8</td>\n",
       "      <td>Pushout-complements and basic concepts of gram...</td>\n",
       "      <td>Yasuo Kawahara</td>\n",
       "      <td>1990.0</td>\n",
       "      <td>Theoretical Computer Science</td>\n",
       "      <td>NaN</td>\n",
       "      <td>NaN</td>\n",
       "      <td>1</td>\n",
       "      <td>2</td>\n",
       "    </tr>\n",
       "    <tr>\n",
       "      <th>2</th>\n",
       "      <td>2</td>\n",
       "      <td>5390879920f70186a0d422b6</td>\n",
       "      <td>Effective constructors the formal series of tr...</td>\n",
       "      <td>Symeon Bozapalidis</td>\n",
       "      <td>1990.0</td>\n",
       "      <td>Theoretical Computer Science</td>\n",
       "      <td>NaN</td>\n",
       "      <td>NaN</td>\n",
       "      <td>2</td>\n",
       "      <td>2</td>\n",
       "    </tr>\n",
       "    <tr>\n",
       "      <th>3</th>\n",
       "      <td>3</td>\n",
       "      <td>555aa9a345ce207198fe0ae8</td>\n",
       "      <td>The DataPaper: living in the virtual world</td>\n",
       "      <td>Mark Green, Chris Shaw</td>\n",
       "      <td>1990.0</td>\n",
       "      <td>Graphics Interface 1990</td>\n",
       "      <td>NaN</td>\n",
       "      <td>Virtual reality user interfaces are a new type...</td>\n",
       "      <td>3</td>\n",
       "      <td>0</td>\n",
       "    </tr>\n",
       "    <tr>\n",
       "      <th>4</th>\n",
       "      <td>4</td>\n",
       "      <td>5390879920f70186a0d422ab</td>\n",
       "      <td>Using program slicing in software maintenance</td>\n",
       "      <td>Keith Brian Gallagher</td>\n",
       "      <td>1990.0</td>\n",
       "      <td>Using program slicing in software maintenance</td>\n",
       "      <td>NaN</td>\n",
       "      <td>NaN</td>\n",
       "      <td>4</td>\n",
       "      <td>0</td>\n",
       "    </tr>\n",
       "    <tr>\n",
       "      <th>...</th>\n",
       "      <td>...</td>\n",
       "      <td>...</td>\n",
       "      <td>...</td>\n",
       "      <td>...</td>\n",
       "      <td>...</td>\n",
       "      <td>...</td>\n",
       "      <td>...</td>\n",
       "      <td>...</td>\n",
       "      <td>...</td>\n",
       "      <td>...</td>\n",
       "    </tr>\n",
       "    <tr>\n",
       "      <th>2381670</th>\n",
       "      <td>2381670</td>\n",
       "      <td>5590cf2f0cf2ce4b6f3a00cf</td>\n",
       "      <td>The QCP File Format and Media Types for Speech...</td>\n",
       "      <td>R. Gellens, H. Garudadri</td>\n",
       "      <td>2003.0</td>\n",
       "      <td>The QCP File Format and Media Types for Speech...</td>\n",
       "      <td>NaN</td>\n",
       "      <td>RFC 2658 specifies the streaming format for 3G...</td>\n",
       "      <td>2381670</td>\n",
       "      <td>0</td>\n",
       "    </tr>\n",
       "    <tr>\n",
       "      <th>2381671</th>\n",
       "      <td>2381671</td>\n",
       "      <td>558c06f4612c2ba45fe93996</td>\n",
       "      <td>Multicast Source Discovery Protocol (MSDP)</td>\n",
       "      <td>B. Fenner, D. Meyer</td>\n",
       "      <td>2003.0</td>\n",
       "      <td>Multicast Source Discovery Protocol (MSDP)</td>\n",
       "      <td>NaN</td>\n",
       "      <td>The Multicast Source Discovery Protocol (MSDP)...</td>\n",
       "      <td>2381671</td>\n",
       "      <td>3</td>\n",
       "    </tr>\n",
       "    <tr>\n",
       "      <th>2381672</th>\n",
       "      <td>2381672</td>\n",
       "      <td>5590d19b0cf237666fc28f94</td>\n",
       "      <td>RTP Control Protocol Extended Reports (RTCP XR)</td>\n",
       "      <td>T. Friedman, R. Caceres, A. Clark</td>\n",
       "      <td>2003.0</td>\n",
       "      <td>RTP Control Protocol Extended Reports (RTCP XR)</td>\n",
       "      <td>NaN</td>\n",
       "      <td>This document defines the Extended Report (XR)...</td>\n",
       "      <td>2381672</td>\n",
       "      <td>3</td>\n",
       "    </tr>\n",
       "    <tr>\n",
       "      <th>2381673</th>\n",
       "      <td>2381673</td>\n",
       "      <td>558d109b0cf2a2c70f68ccca</td>\n",
       "      <td>Uniform Resource Identifier (URI) Scheme and A...</td>\n",
       "      <td>E. Lear</td>\n",
       "      <td>2003.0</td>\n",
       "      <td>Uniform Resource Identifier (URI) Scheme and A...</td>\n",
       "      <td>NaN</td>\n",
       "      <td>The Trivial File Transfer Protocol (TFTP) is a...</td>\n",
       "      <td>2381673</td>\n",
       "      <td>3</td>\n",
       "    </tr>\n",
       "    <tr>\n",
       "      <th>2381674</th>\n",
       "      <td>2381674</td>\n",
       "      <td>5590d1ba0cf25001c36ef188</td>\n",
       "      <td>A Uniform Resource Name (URN) Namespace for th...</td>\n",
       "      <td>J. Smith</td>\n",
       "      <td>2003.0</td>\n",
       "      <td>A Uniform Resource Name (URN) Namespace for th...</td>\n",
       "      <td>NaN</td>\n",
       "      <td>This document describes a Uniform Resource Nam...</td>\n",
       "      <td>2381674</td>\n",
       "      <td>0</td>\n",
       "    </tr>\n",
       "  </tbody>\n",
       "</table>\n",
       "<p>2381675 rows × 10 columns</p>\n",
       "</div>"
      ],
      "text/plain": [
       "         Unnamed: 0                     index  \\\n",
       "0                 0  558ac6e0612c41e6b9d39eed   \n",
       "1                 1  5390879920f70186a0d422b8   \n",
       "2                 2  5390879920f70186a0d422b6   \n",
       "3                 3  555aa9a345ce207198fe0ae8   \n",
       "4                 4  5390879920f70186a0d422ab   \n",
       "...             ...                       ...   \n",
       "2381670     2381670  5590cf2f0cf2ce4b6f3a00cf   \n",
       "2381671     2381671  558c06f4612c2ba45fe93996   \n",
       "2381672     2381672  5590d19b0cf237666fc28f94   \n",
       "2381673     2381673  558d109b0cf2a2c70f68ccca   \n",
       "2381674     2381674  5590d1ba0cf25001c36ef188   \n",
       "\n",
       "                                                     title  \\\n",
       "0                             INFORMS Journal on Computing   \n",
       "1        Pushout-complements and basic concepts of gram...   \n",
       "2        Effective constructors the formal series of tr...   \n",
       "3               The DataPaper: living in the virtual world   \n",
       "4            Using program slicing in software maintenance   \n",
       "...                                                    ...   \n",
       "2381670  The QCP File Format and Media Types for Speech...   \n",
       "2381671         Multicast Source Discovery Protocol (MSDP)   \n",
       "2381672    RTP Control Protocol Extended Reports (RTCP XR)   \n",
       "2381673  Uniform Resource Identifier (URI) Scheme and A...   \n",
       "2381674  A Uniform Resource Name (URN) Namespace for th...   \n",
       "\n",
       "                                   authors    year  \\\n",
       "0                                      NaN  2014.0   \n",
       "1                           Yasuo Kawahara  1990.0   \n",
       "2                       Symeon Bozapalidis  1990.0   \n",
       "3                   Mark Green, Chris Shaw  1990.0   \n",
       "4                    Keith Brian Gallagher  1990.0   \n",
       "...                                    ...     ...   \n",
       "2381670           R. Gellens, H. Garudadri  2003.0   \n",
       "2381671                B. Fenner, D. Meyer  2003.0   \n",
       "2381672  T. Friedman, R. Caceres, A. Clark  2003.0   \n",
       "2381673                            E. Lear  2003.0   \n",
       "2381674                           J. Smith  2003.0   \n",
       "\n",
       "                                                     venue references  \\\n",
       "0                             INFORMS Journal on Computing        NaN   \n",
       "1                             Theoretical Computer Science        NaN   \n",
       "2                             Theoretical Computer Science        NaN   \n",
       "3                                  Graphics Interface 1990        NaN   \n",
       "4            Using program slicing in software maintenance        NaN   \n",
       "...                                                    ...        ...   \n",
       "2381670  The QCP File Format and Media Types for Speech...        NaN   \n",
       "2381671         Multicast Source Discovery Protocol (MSDP)        NaN   \n",
       "2381672    RTP Control Protocol Extended Reports (RTCP XR)        NaN   \n",
       "2381673  Uniform Resource Identifier (URI) Scheme and A...        NaN   \n",
       "2381674  A Uniform Resource Name (URN) Namespace for th...        NaN   \n",
       "\n",
       "                                                  abstract       id  \\\n",
       "0                                                      NaN        0   \n",
       "1                                                      NaN        1   \n",
       "2                                                      NaN        2   \n",
       "3        Virtual reality user interfaces are a new type...        3   \n",
       "4                                                      NaN        4   \n",
       "...                                                    ...      ...   \n",
       "2381670  RFC 2658 specifies the streaming format for 3G...  2381670   \n",
       "2381671  The Multicast Source Discovery Protocol (MSDP)...  2381671   \n",
       "2381672  This document defines the Extended Report (XR)...  2381672   \n",
       "2381673  The Trivial File Transfer Protocol (TFTP) is a...  2381673   \n",
       "2381674  This document describes a Uniform Resource Nam...  2381674   \n",
       "\n",
       "         clustered_labels  \n",
       "0                       1  \n",
       "1                       2  \n",
       "2                       2  \n",
       "3                       0  \n",
       "4                       0  \n",
       "...                   ...  \n",
       "2381670                 0  \n",
       "2381671                 3  \n",
       "2381672                 3  \n",
       "2381673                 3  \n",
       "2381674                 0  \n",
       "\n",
       "[2381675 rows x 10 columns]"
      ]
     },
     "execution_count": 6,
     "metadata": {},
     "output_type": "execute_result"
    }
   ],
   "source": [
    "labels_df"
   ]
  },
  {
   "cell_type": "code",
   "execution_count": 7,
   "metadata": {},
   "outputs": [],
   "source": [
    "labels_df['clustered_labels'], unique_topics = pd.factorize(labels_df['clustered_labels'])"
   ]
  },
  {
   "cell_type": "code",
   "execution_count": 8,
   "metadata": {},
   "outputs": [],
   "source": [
    "with open('id_map.json', 'r') as f:\n",
    "    id_map = json.load(f)\n",
    "\n"
   ]
  },
  {
   "cell_type": "markdown",
   "metadata": {},
   "source": [
    "## Dataset"
   ]
  },
  {
   "cell_type": "code",
   "execution_count": null,
   "metadata": {},
   "outputs": [],
   "source": [
    "id_map = dict(zip(labels_df['index'], labels_df['id']))"
   ]
  },
  {
   "cell_type": "code",
   "execution_count": 10,
   "metadata": {},
   "outputs": [
    {
     "data": {
      "text/plain": [
       "torch.Size([2, 64889322])"
      ]
     },
     "execution_count": 10,
     "metadata": {},
     "output_type": "execute_result"
    }
   ],
   "source": [
    "edge_index_proxy = []\n",
    "for edge in edges.keys():\n",
    "    edge_rep = edge.split(';')\n",
    "    try:\n",
    "        src = id_map[edge_rep[0]]\n",
    "        dst = id_map[edge_rep[1]]\n",
    "        edge_index_proxy.append((src, dst))\n",
    "    except KeyError:\n",
    "        continue\n",
    "edge_index = torch.tensor(edge_index_proxy, dtype=torch.long).t().contiguous()\n",
    "edge_index.shape"
   ]
  },
  {
   "cell_type": "code",
   "execution_count": 11,
   "metadata": {},
   "outputs": [
    {
     "data": {
      "text/plain": [
       "torch.Size([2381675])"
      ]
     },
     "execution_count": 11,
     "metadata": {},
     "output_type": "execute_result"
    }
   ],
   "source": [
    "labels_dict = dict(zip(labels_df['id'], labels_df['clustered_labels']))\n",
    "labels = []\n",
    "for node in nodes:\n",
    "    try:\n",
    "        labels.append(labels_dict[id_map[node]])\n",
    "    except KeyError:\n",
    "        continue\n",
    "labels = torch.tensor(labels, dtype=torch.long)\n",
    "labels.shape"
   ]
  },
  {
   "cell_type": "code",
   "execution_count": 12,
   "metadata": {},
   "outputs": [],
   "source": [
    "reduced_embeddings = pd.read_csv('/home/student/FinalProject/PaperFeedback/Datasets/reduced_embeddings.csv')\n"
   ]
  },
  {
   "cell_type": "code",
   "execution_count": 13,
   "metadata": {},
   "outputs": [],
   "source": [
    "reduced_embeddings = reduced_embeddings.drop(columns='Unnamed: 0')"
   ]
  },
  {
   "cell_type": "code",
   "execution_count": 14,
   "metadata": {},
   "outputs": [
    {
     "data": {
      "text/html": [
       "<div>\n",
       "<style scoped>\n",
       "    .dataframe tbody tr th:only-of-type {\n",
       "        vertical-align: middle;\n",
       "    }\n",
       "\n",
       "    .dataframe tbody tr th {\n",
       "        vertical-align: top;\n",
       "    }\n",
       "\n",
       "    .dataframe thead th {\n",
       "        text-align: right;\n",
       "    }\n",
       "</style>\n",
       "<table border=\"1\" class=\"dataframe\">\n",
       "  <thead>\n",
       "    <tr style=\"text-align: right;\">\n",
       "      <th></th>\n",
       "      <th>PC1</th>\n",
       "      <th>PC2</th>\n",
       "      <th>PC3</th>\n",
       "      <th>PC4</th>\n",
       "      <th>PC5</th>\n",
       "      <th>PC6</th>\n",
       "      <th>PC7</th>\n",
       "      <th>PC8</th>\n",
       "      <th>PC9</th>\n",
       "      <th>PC10</th>\n",
       "      <th>PC11</th>\n",
       "      <th>PC12</th>\n",
       "      <th>PC13</th>\n",
       "      <th>PC14</th>\n",
       "      <th>PC15</th>\n",
       "      <th>PC16</th>\n",
       "    </tr>\n",
       "  </thead>\n",
       "  <tbody>\n",
       "    <tr>\n",
       "      <th>0</th>\n",
       "      <td>0.244551</td>\n",
       "      <td>0.072160</td>\n",
       "      <td>0.040480</td>\n",
       "      <td>-0.008222</td>\n",
       "      <td>-0.188693</td>\n",
       "      <td>-0.173248</td>\n",
       "      <td>-0.141227</td>\n",
       "      <td>-0.243266</td>\n",
       "      <td>0.228278</td>\n",
       "      <td>-0.163842</td>\n",
       "      <td>0.185187</td>\n",
       "      <td>-0.166343</td>\n",
       "      <td>-0.082616</td>\n",
       "      <td>0.019520</td>\n",
       "      <td>0.002732</td>\n",
       "      <td>-0.056307</td>\n",
       "    </tr>\n",
       "    <tr>\n",
       "      <th>1</th>\n",
       "      <td>0.059597</td>\n",
       "      <td>-0.029985</td>\n",
       "      <td>-0.151846</td>\n",
       "      <td>0.005764</td>\n",
       "      <td>-0.181205</td>\n",
       "      <td>-0.143536</td>\n",
       "      <td>0.053723</td>\n",
       "      <td>0.141302</td>\n",
       "      <td>0.159624</td>\n",
       "      <td>-0.003362</td>\n",
       "      <td>-0.174040</td>\n",
       "      <td>-0.080417</td>\n",
       "      <td>0.069381</td>\n",
       "      <td>0.021649</td>\n",
       "      <td>-0.085207</td>\n",
       "      <td>0.057289</td>\n",
       "    </tr>\n",
       "    <tr>\n",
       "      <th>2</th>\n",
       "      <td>0.036556</td>\n",
       "      <td>0.048582</td>\n",
       "      <td>-0.309378</td>\n",
       "      <td>0.063445</td>\n",
       "      <td>-0.274076</td>\n",
       "      <td>-0.079415</td>\n",
       "      <td>0.078125</td>\n",
       "      <td>0.037037</td>\n",
       "      <td>-0.071647</td>\n",
       "      <td>-0.111977</td>\n",
       "      <td>-0.102856</td>\n",
       "      <td>0.069368</td>\n",
       "      <td>0.008462</td>\n",
       "      <td>0.129782</td>\n",
       "      <td>0.000145</td>\n",
       "      <td>0.071227</td>\n",
       "    </tr>\n",
       "    <tr>\n",
       "      <th>3</th>\n",
       "      <td>0.332041</td>\n",
       "      <td>-0.112594</td>\n",
       "      <td>0.124543</td>\n",
       "      <td>-0.164285</td>\n",
       "      <td>0.223807</td>\n",
       "      <td>-0.230389</td>\n",
       "      <td>0.174200</td>\n",
       "      <td>0.025000</td>\n",
       "      <td>0.010656</td>\n",
       "      <td>-0.050118</td>\n",
       "      <td>0.016155</td>\n",
       "      <td>-0.024879</td>\n",
       "      <td>-0.055583</td>\n",
       "      <td>0.054578</td>\n",
       "      <td>0.155759</td>\n",
       "      <td>0.019210</td>\n",
       "    </tr>\n",
       "    <tr>\n",
       "      <th>4</th>\n",
       "      <td>0.097950</td>\n",
       "      <td>0.262777</td>\n",
       "      <td>-0.237347</td>\n",
       "      <td>-0.148805</td>\n",
       "      <td>0.034486</td>\n",
       "      <td>0.053386</td>\n",
       "      <td>-0.088703</td>\n",
       "      <td>0.017467</td>\n",
       "      <td>-0.202946</td>\n",
       "      <td>0.027979</td>\n",
       "      <td>0.045043</td>\n",
       "      <td>0.120020</td>\n",
       "      <td>0.120238</td>\n",
       "      <td>-0.026877</td>\n",
       "      <td>-0.017690</td>\n",
       "      <td>-0.113315</td>\n",
       "    </tr>\n",
       "    <tr>\n",
       "      <th>...</th>\n",
       "      <td>...</td>\n",
       "      <td>...</td>\n",
       "      <td>...</td>\n",
       "      <td>...</td>\n",
       "      <td>...</td>\n",
       "      <td>...</td>\n",
       "      <td>...</td>\n",
       "      <td>...</td>\n",
       "      <td>...</td>\n",
       "      <td>...</td>\n",
       "      <td>...</td>\n",
       "      <td>...</td>\n",
       "      <td>...</td>\n",
       "      <td>...</td>\n",
       "      <td>...</td>\n",
       "      <td>...</td>\n",
       "    </tr>\n",
       "    <tr>\n",
       "      <th>2381670</th>\n",
       "      <td>-0.085549</td>\n",
       "      <td>0.065734</td>\n",
       "      <td>0.233048</td>\n",
       "      <td>0.051984</td>\n",
       "      <td>0.076737</td>\n",
       "      <td>-0.153134</td>\n",
       "      <td>-0.270285</td>\n",
       "      <td>0.075621</td>\n",
       "      <td>0.097902</td>\n",
       "      <td>-0.040609</td>\n",
       "      <td>-0.217339</td>\n",
       "      <td>-0.117657</td>\n",
       "      <td>0.190760</td>\n",
       "      <td>0.093550</td>\n",
       "      <td>0.015645</td>\n",
       "      <td>-0.115214</td>\n",
       "    </tr>\n",
       "    <tr>\n",
       "      <th>2381671</th>\n",
       "      <td>-0.020302</td>\n",
       "      <td>0.188478</td>\n",
       "      <td>0.227094</td>\n",
       "      <td>0.223172</td>\n",
       "      <td>0.094980</td>\n",
       "      <td>0.004704</td>\n",
       "      <td>0.097351</td>\n",
       "      <td>0.057981</td>\n",
       "      <td>-0.004704</td>\n",
       "      <td>-0.114065</td>\n",
       "      <td>-0.002729</td>\n",
       "      <td>-0.074940</td>\n",
       "      <td>-0.075747</td>\n",
       "      <td>0.085331</td>\n",
       "      <td>-0.143944</td>\n",
       "      <td>-0.207621</td>\n",
       "    </tr>\n",
       "    <tr>\n",
       "      <th>2381672</th>\n",
       "      <td>0.009575</td>\n",
       "      <td>0.142867</td>\n",
       "      <td>0.119553</td>\n",
       "      <td>0.056473</td>\n",
       "      <td>0.033336</td>\n",
       "      <td>0.008027</td>\n",
       "      <td>-0.145779</td>\n",
       "      <td>0.186886</td>\n",
       "      <td>0.107563</td>\n",
       "      <td>-0.021122</td>\n",
       "      <td>-0.081155</td>\n",
       "      <td>-0.097481</td>\n",
       "      <td>0.132234</td>\n",
       "      <td>0.171594</td>\n",
       "      <td>-0.022116</td>\n",
       "      <td>-0.118640</td>\n",
       "    </tr>\n",
       "    <tr>\n",
       "      <th>2381673</th>\n",
       "      <td>0.046728</td>\n",
       "      <td>0.264669</td>\n",
       "      <td>0.181376</td>\n",
       "      <td>0.242812</td>\n",
       "      <td>-0.008225</td>\n",
       "      <td>-0.101865</td>\n",
       "      <td>-0.023464</td>\n",
       "      <td>0.222635</td>\n",
       "      <td>-0.089073</td>\n",
       "      <td>-0.060676</td>\n",
       "      <td>0.048192</td>\n",
       "      <td>-0.047393</td>\n",
       "      <td>-0.087395</td>\n",
       "      <td>-0.063408</td>\n",
       "      <td>0.035975</td>\n",
       "      <td>-0.045400</td>\n",
       "    </tr>\n",
       "    <tr>\n",
       "      <th>2381674</th>\n",
       "      <td>0.117439</td>\n",
       "      <td>-0.016362</td>\n",
       "      <td>0.056036</td>\n",
       "      <td>0.104688</td>\n",
       "      <td>0.176905</td>\n",
       "      <td>-0.066783</td>\n",
       "      <td>0.079164</td>\n",
       "      <td>0.012050</td>\n",
       "      <td>-0.006827</td>\n",
       "      <td>-0.024281</td>\n",
       "      <td>-0.067591</td>\n",
       "      <td>-0.128045</td>\n",
       "      <td>0.151194</td>\n",
       "      <td>0.014583</td>\n",
       "      <td>-0.034388</td>\n",
       "      <td>-0.098465</td>\n",
       "    </tr>\n",
       "  </tbody>\n",
       "</table>\n",
       "<p>2381675 rows × 16 columns</p>\n",
       "</div>"
      ],
      "text/plain": [
       "              PC1       PC2       PC3       PC4       PC5       PC6       PC7  \\\n",
       "0        0.244551  0.072160  0.040480 -0.008222 -0.188693 -0.173248 -0.141227   \n",
       "1        0.059597 -0.029985 -0.151846  0.005764 -0.181205 -0.143536  0.053723   \n",
       "2        0.036556  0.048582 -0.309378  0.063445 -0.274076 -0.079415  0.078125   \n",
       "3        0.332041 -0.112594  0.124543 -0.164285  0.223807 -0.230389  0.174200   \n",
       "4        0.097950  0.262777 -0.237347 -0.148805  0.034486  0.053386 -0.088703   \n",
       "...           ...       ...       ...       ...       ...       ...       ...   \n",
       "2381670 -0.085549  0.065734  0.233048  0.051984  0.076737 -0.153134 -0.270285   \n",
       "2381671 -0.020302  0.188478  0.227094  0.223172  0.094980  0.004704  0.097351   \n",
       "2381672  0.009575  0.142867  0.119553  0.056473  0.033336  0.008027 -0.145779   \n",
       "2381673  0.046728  0.264669  0.181376  0.242812 -0.008225 -0.101865 -0.023464   \n",
       "2381674  0.117439 -0.016362  0.056036  0.104688  0.176905 -0.066783  0.079164   \n",
       "\n",
       "              PC8       PC9      PC10      PC11      PC12      PC13      PC14  \\\n",
       "0       -0.243266  0.228278 -0.163842  0.185187 -0.166343 -0.082616  0.019520   \n",
       "1        0.141302  0.159624 -0.003362 -0.174040 -0.080417  0.069381  0.021649   \n",
       "2        0.037037 -0.071647 -0.111977 -0.102856  0.069368  0.008462  0.129782   \n",
       "3        0.025000  0.010656 -0.050118  0.016155 -0.024879 -0.055583  0.054578   \n",
       "4        0.017467 -0.202946  0.027979  0.045043  0.120020  0.120238 -0.026877   \n",
       "...           ...       ...       ...       ...       ...       ...       ...   \n",
       "2381670  0.075621  0.097902 -0.040609 -0.217339 -0.117657  0.190760  0.093550   \n",
       "2381671  0.057981 -0.004704 -0.114065 -0.002729 -0.074940 -0.075747  0.085331   \n",
       "2381672  0.186886  0.107563 -0.021122 -0.081155 -0.097481  0.132234  0.171594   \n",
       "2381673  0.222635 -0.089073 -0.060676  0.048192 -0.047393 -0.087395 -0.063408   \n",
       "2381674  0.012050 -0.006827 -0.024281 -0.067591 -0.128045  0.151194  0.014583   \n",
       "\n",
       "             PC15      PC16  \n",
       "0        0.002732 -0.056307  \n",
       "1       -0.085207  0.057289  \n",
       "2        0.000145  0.071227  \n",
       "3        0.155759  0.019210  \n",
       "4       -0.017690 -0.113315  \n",
       "...           ...       ...  \n",
       "2381670  0.015645 -0.115214  \n",
       "2381671 -0.143944 -0.207621  \n",
       "2381672 -0.022116 -0.118640  \n",
       "2381673  0.035975 -0.045400  \n",
       "2381674 -0.034388 -0.098465  \n",
       "\n",
       "[2381675 rows x 16 columns]"
      ]
     },
     "execution_count": 14,
     "metadata": {},
     "output_type": "execute_result"
    }
   ],
   "source": [
    "reduced_embeddings"
   ]
  },
  {
   "cell_type": "code",
   "execution_count": 15,
   "metadata": {},
   "outputs": [
    {
     "data": {
      "text/plain": [
       "torch.Size([2381675, 16])"
      ]
     },
     "execution_count": 15,
     "metadata": {},
     "output_type": "execute_result"
    }
   ],
   "source": [
    "\n",
    "embeddings_np = reduced_embeddings.to_numpy()\n",
    "X = torch.tensor(embeddings_np, dtype=torch.float32)\n",
    "X.shape"
   ]
  },
  {
   "cell_type": "code",
   "execution_count": 16,
   "metadata": {},
   "outputs": [],
   "source": [
    "data = Data(x=X, edge_index=edge_index, y=labels)"
   ]
  },
  {
   "cell_type": "markdown",
   "metadata": {},
   "source": [
    "## Model"
   ]
  },
  {
   "cell_type": "code",
   "execution_count": 17,
   "metadata": {},
   "outputs": [],
   "source": [
    "class GNN(torch.nn.Module):\n",
    "    def __init__(self, input_dim, hidden_dim_1, hidden_dim_2, out_dim, num_heads=3):\n",
    "        super(GNN, self).__init__()\n",
    "        self.conv1 = GATConv(input_dim, hidden_dim_1, heads=num_heads)\n",
    "        self.conv2 = GCNConv(hidden_dim_1*num_heads, hidden_dim_2)\n",
    "        self.w1 = torch.nn.Linear(hidden_dim_2, hidden_dim_2)\n",
    "        self.w2 = torch.nn.Linear(hidden_dim_2, out_dim)\n",
    "        \n",
    "    def forward(self, data, return_hidden=False):\n",
    "        x, edge_index = data.x, data.edge_index\n",
    "        x = self.conv1(x, edge_index)\n",
    "        x = F.relu(x)\n",
    "        x = self.conv2(x, edge_index)\n",
    "        hidden = self.w1(x)\n",
    "        output = self.w2(hidden)\n",
    "        if return_hidden:\n",
    "            return output, hidden\n",
    "        else:\n",
    "            return output\n"
   ]
  },
  {
   "cell_type": "code",
   "execution_count": 18,
   "metadata": {},
   "outputs": [],
   "source": [
    "input_dim = INIT_DIM \n",
    "hidden_dim_1 = 16\n",
    "hidden_dim_2 = 8 \n",
    "output_dim = labels.max().item() + 1  \n",
    "\n",
    "# Instantiate the model\n",
    "model = GNN(input_dim=input_dim, hidden_dim_1=hidden_dim_1, hidden_dim_2=hidden_dim_2, out_dim=output_dim)\n",
    "\n",
    "# Use Adam optimizer\n",
    "optimizer = torch.optim.Adam(model.parameters(), lr=0.05)\n",
    "\n",
    "# Loss function (cross-entropy loss for classification)\n",
    "criterion = torch.nn.CrossEntropyLoss()"
   ]
  },
  {
   "cell_type": "code",
   "execution_count": 19,
   "metadata": {},
   "outputs": [
    {
     "name": "stdout",
     "output_type": "stream",
     "text": [
      "using GPU\n"
     ]
    }
   ],
   "source": [
    "if torch.cuda.is_available():\n",
    "    print('using GPU')\n",
    "    device = 'cuda'\n",
    "else:\n",
    "    print('using CPU')\n",
    "    device = 'cpu'\n",
    "\n",
    "model = model.to(device=device)    \n",
    "data = data.to(device=device)"
   ]
  },
  {
   "cell_type": "code",
   "execution_count": 20,
   "metadata": {},
   "outputs": [],
   "source": [
    "from torch_geometric.loader import NeighborLoader\n",
    "\n",
    "\n",
    "# Assuming `data` is your single large graph\n",
    "training_loader = NeighborLoader(data, num_neighbors=[50, 20], batch_size=4096, shuffle=True)\n",
    "inference_loader = NeighborLoader(data, num_neighbors=[50, 20], batch_size=1024, shuffle=False)"
   ]
  },
  {
   "cell_type": "code",
   "execution_count": 21,
   "metadata": {},
   "outputs": [],
   "source": [
    "from tqdm import tqdm"
   ]
  },
  {
   "cell_type": "code",
   "execution_count": 22,
   "metadata": {},
   "outputs": [
    {
     "name": "stderr",
     "output_type": "stream",
     "text": [
      "  0%|          | 0/582 [00:00<?, ?it/s]"
     ]
    },
    {
     "name": "stderr",
     "output_type": "stream",
     "text": [
      "100%|██████████| 582/582 [03:48<00:00,  2.55it/s]\n"
     ]
    },
    {
     "name": "stdout",
     "output_type": "stream",
     "text": [
      "Epoch: [1/5], Loss: 1.4868, Accuracy: 28.84%\n"
     ]
    },
    {
     "name": "stderr",
     "output_type": "stream",
     "text": [
      "100%|██████████| 582/582 [03:47<00:00,  2.56it/s]\n"
     ]
    },
    {
     "name": "stdout",
     "output_type": "stream",
     "text": [
      "Epoch: [2/5], Loss: 1.4862, Accuracy: 28.93%\n"
     ]
    },
    {
     "name": "stderr",
     "output_type": "stream",
     "text": [
      "100%|██████████| 582/582 [03:45<00:00,  2.58it/s]\n"
     ]
    },
    {
     "name": "stdout",
     "output_type": "stream",
     "text": [
      "Epoch: [3/5], Loss: 1.4861, Accuracy: 28.96%\n"
     ]
    },
    {
     "name": "stderr",
     "output_type": "stream",
     "text": [
      "100%|██████████| 582/582 [03:47<00:00,  2.56it/s]\n"
     ]
    },
    {
     "name": "stdout",
     "output_type": "stream",
     "text": [
      "Epoch: [4/5], Loss: 1.4860, Accuracy: 28.97%\n"
     ]
    },
    {
     "name": "stderr",
     "output_type": "stream",
     "text": [
      "100%|██████████| 582/582 [03:47<00:00,  2.56it/s]"
     ]
    },
    {
     "name": "stdout",
     "output_type": "stream",
     "text": [
      "Epoch: [5/5], Loss: 1.4860, Accuracy: 28.98%\n"
     ]
    },
    {
     "name": "stderr",
     "output_type": "stream",
     "text": [
      "\n"
     ]
    }
   ],
   "source": [
    "for epoch in range(1, NUM_EPOCHS + 1):\n",
    "    model.train()\n",
    "    total_loss = 0\n",
    "    correct = 0\n",
    "    total = 0\n",
    "    for batch_data in tqdm(training_loader): \n",
    "        optimizer.zero_grad()\n",
    "        output = model(batch_data)\n",
    "        pred = output[batch_data.batch].argmax(dim=2)\n",
    "        correct += (pred == batch_data.y[batch_data.batch]).sum().item()\n",
    "        total += batch_data.y.size(0)\n",
    "        loss = criterion(output[batch_data.batch].squeeze(), batch_data.y[batch_data.batch].squeeze())\n",
    "        loss.backward()\n",
    "        optimizer.step()\n",
    "\n",
    "        total_loss += loss.item()\n",
    "\n",
    "    accuracy = correct / total\n",
    "    print(f'Epoch: [{epoch}/{NUM_EPOCHS}], Loss: {total_loss/len(training_loader):.4f}, Accuracy: {accuracy * 100:.2f}%')"
   ]
  },
  {
   "cell_type": "markdown",
   "metadata": {},
   "source": [
    "## Inference"
   ]
  },
  {
   "cell_type": "code",
   "execution_count": 23,
   "metadata": {},
   "outputs": [],
   "source": [
    "def set_seed(seed: int, deterministic: bool = False):\n",
    "    \"\"\"\n",
    "    Sets the seed for reproducibility across PyTorch, NumPy, and Python's `random` module.\n",
    "    \n",
    "    Parameters:\n",
    "    - seed (int): The seed value to set.\n",
    "    - deterministic (bool): If True, sets PyTorch to deterministic mode for reproducibility at the cost of performance.\n",
    "    \"\"\"\n",
    "    random.seed(seed)\n",
    "    np.random.seed(seed)\n",
    "    torch.manual_seed(seed)\n",
    "    torch.cuda.manual_seed(seed)\n",
    "    torch.cuda.manual_seed_all(seed)\n",
    "    \n",
    "    if deterministic:\n",
    "        torch.backends.cudnn.deterministic = True\n",
    "        torch.backends.cudnn.benchmark = False\n",
    "    else:\n",
    "        torch.backends.cudnn.benchmark = True"
   ]
  },
  {
   "cell_type": "code",
   "execution_count": 24,
   "metadata": {},
   "outputs": [],
   "source": [
    "set_seed(42)"
   ]
  },
  {
   "cell_type": "code",
   "execution_count": 25,
   "metadata": {},
   "outputs": [
    {
     "name": "stderr",
     "output_type": "stream",
     "text": [
      "  0%|          | 2/2326 [00:00<02:16, 16.97it/s]"
     ]
    },
    {
     "name": "stderr",
     "output_type": "stream",
     "text": [
      "100%|██████████| 2326/2326 [02:49<00:00, 13.74it/s]\n"
     ]
    }
   ],
   "source": [
    "num_nodes = labels.shape[0]\n",
    "global_embeddings = torch.zeros((num_nodes, hidden_dim_2))\n",
    "\n",
    "for batch_data in tqdm(inference_loader):\n",
    "    model.eval()\n",
    "    \n",
    "    with torch.no_grad():\n",
    "        _, hiddens = model(batch_data, return_hidden=True)\n",
    "        hiddens = hiddens.cpu()\n",
    "        global_embeddings[batch_data.n_id] = hiddens\n",
    "\n"
   ]
  },
  {
   "cell_type": "code",
   "execution_count": 26,
   "metadata": {},
   "outputs": [],
   "source": [
    "global_embeddings = global_embeddings.numpy()"
   ]
  },
  {
   "cell_type": "code",
   "execution_count": 27,
   "metadata": {},
   "outputs": [],
   "source": [
    "# Step 1: Create a DataFrame with embeddings\n",
    "df = pd.DataFrame(global_embeddings, columns=[f'dim_{i+1}' for i in range(global_embeddings.shape[1])])\n",
    "\n",
    "# Step 2: Add the ID column at the beginning\n",
    "df.insert(0, 'id', list(labels_df['id']))"
   ]
  },
  {
   "cell_type": "code",
   "execution_count": 28,
   "metadata": {},
   "outputs": [],
   "source": [
    "df.to_csv('/home/student/FinalProject/PaperFeedback/Datasets/author_colab.csv')"
   ]
  }
 ],
 "metadata": {
  "kernelspec": {
   "display_name": "base",
   "language": "python",
   "name": "python3"
  },
  "language_info": {
   "codemirror_mode": {
    "name": "ipython",
    "version": 3
   },
   "file_extension": ".py",
   "mimetype": "text/x-python",
   "name": "python",
   "nbconvert_exporter": "python",
   "pygments_lexer": "ipython3",
   "version": "3.8.19"
  }
 },
 "nbformat": 4,
 "nbformat_minor": 2
}
