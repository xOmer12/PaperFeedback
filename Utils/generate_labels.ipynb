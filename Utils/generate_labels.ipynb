{
 "cells": [
  {
   "cell_type": "markdown",
   "metadata": {},
   "source": [
    "# Generate Labels for Node Classification Task"
   ]
  },
  {
   "cell_type": "markdown",
   "metadata": {},
   "source": [
    "We use the venue of a paper as a proxy to the paper's general domain. In order to extract labels based on the venue, we use a fine-tuned BERTopic model, tuned on arXiv papers in the fields of machine learning and computer science. Note that in the initial retrieval of the system, the embeddings are abstract based, so we needed less dependecy in them when training the GNN, thus the choice of using the venue."
   ]
  },
  {
   "cell_type": "markdown",
   "metadata": {},
   "source": [
    "## Imports, Consts and Setup"
   ]
  },
  {
   "cell_type": "code",
   "execution_count": null,
   "metadata": {},
   "outputs": [],
   "source": [
    "import pandas as pd\n",
    "from sentence_transformers import SentenceTransformer\n",
    "import torch\n",
    "from torch.utils.data import DataLoader, Dataset\n",
    "import numpy as np\n",
    "from tqdm import tqdm\n",
    "from bertopic import BERTopic\n"
   ]
  },
  {
   "cell_type": "code",
   "execution_count": 2,
   "metadata": {},
   "outputs": [],
   "source": [
    "BATCH_SIZE = 256"
   ]
  },
  {
   "cell_type": "code",
   "execution_count": 3,
   "metadata": {},
   "outputs": [],
   "source": [
    "acm_df = pd.read_csv('/home/student/FinalProject/PaperFeedback/Datasets/acm_citation_network_v8.csv')"
   ]
  },
  {
   "cell_type": "code",
   "execution_count": 4,
   "metadata": {},
   "outputs": [],
   "source": [
    "acm_df['venue'] = acm_df['venue'].fillna('')\n",
    "acm_df['venue'] = acm_df['venue'].apply(lambda x: str(x))\n",
    "acm_df['id'] = range(len(acm_df))"
   ]
  },
  {
   "cell_type": "code",
   "execution_count": 5,
   "metadata": {},
   "outputs": [
    {
     "data": {
      "text/html": [
       "<div>\n",
       "<style scoped>\n",
       "    .dataframe tbody tr th:only-of-type {\n",
       "        vertical-align: middle;\n",
       "    }\n",
       "\n",
       "    .dataframe tbody tr th {\n",
       "        vertical-align: top;\n",
       "    }\n",
       "\n",
       "    .dataframe thead th {\n",
       "        text-align: right;\n",
       "    }\n",
       "</style>\n",
       "<table border=\"1\" class=\"dataframe\">\n",
       "  <thead>\n",
       "    <tr style=\"text-align: right;\">\n",
       "      <th></th>\n",
       "      <th>id</th>\n",
       "      <th>venue</th>\n",
       "    </tr>\n",
       "  </thead>\n",
       "  <tbody>\n",
       "    <tr>\n",
       "      <th>0</th>\n",
       "      <td>0</td>\n",
       "      <td>INFORMS Journal on Computing</td>\n",
       "    </tr>\n",
       "    <tr>\n",
       "      <th>1</th>\n",
       "      <td>1</td>\n",
       "      <td>Theoretical Computer Science</td>\n",
       "    </tr>\n",
       "    <tr>\n",
       "      <th>2</th>\n",
       "      <td>2</td>\n",
       "      <td>Theoretical Computer Science</td>\n",
       "    </tr>\n",
       "    <tr>\n",
       "      <th>3</th>\n",
       "      <td>3</td>\n",
       "      <td>Graphics Interface 1990</td>\n",
       "    </tr>\n",
       "    <tr>\n",
       "      <th>4</th>\n",
       "      <td>4</td>\n",
       "      <td>Using program slicing in software maintenance</td>\n",
       "    </tr>\n",
       "    <tr>\n",
       "      <th>...</th>\n",
       "      <td>...</td>\n",
       "      <td>...</td>\n",
       "    </tr>\n",
       "    <tr>\n",
       "      <th>2381670</th>\n",
       "      <td>2381670</td>\n",
       "      <td>The QCP File Format and Media Types for Speech...</td>\n",
       "    </tr>\n",
       "    <tr>\n",
       "      <th>2381671</th>\n",
       "      <td>2381671</td>\n",
       "      <td>Multicast Source Discovery Protocol (MSDP)</td>\n",
       "    </tr>\n",
       "    <tr>\n",
       "      <th>2381672</th>\n",
       "      <td>2381672</td>\n",
       "      <td>RTP Control Protocol Extended Reports (RTCP XR)</td>\n",
       "    </tr>\n",
       "    <tr>\n",
       "      <th>2381673</th>\n",
       "      <td>2381673</td>\n",
       "      <td>Uniform Resource Identifier (URI) Scheme and A...</td>\n",
       "    </tr>\n",
       "    <tr>\n",
       "      <th>2381674</th>\n",
       "      <td>2381674</td>\n",
       "      <td>A Uniform Resource Name (URN) Namespace for th...</td>\n",
       "    </tr>\n",
       "  </tbody>\n",
       "</table>\n",
       "<p>2381675 rows × 2 columns</p>\n",
       "</div>"
      ],
      "text/plain": [
       "              id                                              venue\n",
       "0              0                       INFORMS Journal on Computing\n",
       "1              1                       Theoretical Computer Science\n",
       "2              2                       Theoretical Computer Science\n",
       "3              3                            Graphics Interface 1990\n",
       "4              4      Using program slicing in software maintenance\n",
       "...          ...                                                ...\n",
       "2381670  2381670  The QCP File Format and Media Types for Speech...\n",
       "2381671  2381671         Multicast Source Discovery Protocol (MSDP)\n",
       "2381672  2381672    RTP Control Protocol Extended Reports (RTCP XR)\n",
       "2381673  2381673  Uniform Resource Identifier (URI) Scheme and A...\n",
       "2381674  2381674  A Uniform Resource Name (URN) Namespace for th...\n",
       "\n",
       "[2381675 rows x 2 columns]"
      ]
     },
     "execution_count": 5,
     "metadata": {},
     "output_type": "execute_result"
    }
   ],
   "source": [
    "acm_df[['id', 'venue']]"
   ]
  },
  {
   "cell_type": "markdown",
   "metadata": {},
   "source": [
    "## Embedding Generation Process"
   ]
  },
  {
   "cell_type": "markdown",
   "metadata": {},
   "source": [
    "Usage of BERTopic requires initial text embeddings for documents, which will be clustered by the model. For efficient embedding process, we use SentenceTransformers model <code>all-MiniLM-L6-v2</code>, and encode documents in batches with custom torch dataset and dataloader objects."
   ]
  },
  {
   "cell_type": "code",
   "execution_count": 6,
   "metadata": {},
   "outputs": [],
   "source": [
    "class DocDataset(Dataset):\n",
    "    def __init__(self, df, doc_field):\n",
    "        self.df = df\n",
    "        self.doc_field = doc_field\n",
    "\n",
    "    def __len__(self):\n",
    "        return len(self.df)\n",
    "    \n",
    "    def __getitem__(self, index):\n",
    "        return self.df.iloc[index]['id'], self.df.iloc[index][self.doc_field]"
   ]
  },
  {
   "cell_type": "code",
   "execution_count": 7,
   "metadata": {},
   "outputs": [
    {
     "name": "stdout",
     "output_type": "stream",
     "text": [
      "using GPU\n"
     ]
    }
   ],
   "source": [
    "doc_dataset=  DocDataset(acm_df, doc_field='venue')\n",
    "doc_dataloader = DataLoader(doc_dataset, batch_size=BATCH_SIZE, shuffle=False, num_workers=8, pin_memory=True)\n",
    "if torch.cuda.is_available():\n",
    "    print('using GPU')\n",
    "    device = 'cuda'\n",
    "else:\n",
    "    print('using CPU')\n",
    "    device = 'cpu'\n",
    "model = SentenceTransformer('all-MiniLM-L6-v2')\n",
    "model = model.to(device)"
   ]
  },
  {
   "cell_type": "code",
   "execution_count": 8,
   "metadata": {},
   "outputs": [
    {
     "name": "stderr",
     "output_type": "stream",
     "text": [
      "100%|██████████| 9304/9304 [12:42<00:00, 12.21it/s]\n"
     ]
    }
   ],
   "source": [
    "doc_embeddings = []\n",
    "with torch.no_grad():\n",
    "    for _, batch in tqdm(doc_dataloader):\n",
    "        batch_embeddings = model.encode(batch, convert_to_tensor=True, show_progress_bar=False)\n",
    "        doc_embeddings.extend(batch_embeddings.cpu().numpy())"
   ]
  },
  {
   "cell_type": "code",
   "execution_count": 9,
   "metadata": {},
   "outputs": [],
   "source": [
    "doc_embeddings = np.array(doc_embeddings)"
   ]
  },
  {
   "cell_type": "code",
   "execution_count": 14,
   "metadata": {},
   "outputs": [],
   "source": [
    "docs = acm_df['venue'].to_list()\n"
   ]
  },
  {
   "cell_type": "markdown",
   "metadata": {},
   "source": [
    "## BERTopic model labeling"
   ]
  },
  {
   "cell_type": "markdown",
   "metadata": {},
   "source": [
    "We chose <code><a href='https://huggingface.co/etanios/short-arxiv-bertopic'> short-arxiv-bertopic</a></code> as the labeling model. The model classifies documents to one of 38 different topics from domains of machine learning and computer science, which mathces our corpus."
   ]
  },
  {
   "cell_type": "code",
   "execution_count": null,
   "metadata": {},
   "outputs": [],
   "source": [
    "topic_model = BERTopic.load(\"etanios/short-arxiv-bertopic\")"
   ]
  },
  {
   "cell_type": "code",
   "execution_count": null,
   "metadata": {},
   "outputs": [],
   "source": [
    "topics, probs = topic_model.transform(documents=docs, embeddings=doc_embeddings)"
   ]
  },
  {
   "cell_type": "code",
   "execution_count": 23,
   "metadata": {},
   "outputs": [
    {
     "data": {
      "text/plain": [
       "Index(['index', 'title', 'authors', 'year', 'venue', 'references', 'abstract',\n",
       "       'id', 'topic'],\n",
       "      dtype='object')"
      ]
     },
     "execution_count": 23,
     "metadata": {},
     "output_type": "execute_result"
    }
   ],
   "source": [
    "acm_df['topic'] = topics\n",
    "acm_df.columns"
   ]
  },
  {
   "cell_type": "code",
   "execution_count": 27,
   "metadata": {},
   "outputs": [],
   "source": [
    "acm_df.to_csv('/home/student/FinalProject/PaperFeedback/Datasets/acm_citation_network_v8_labeled.csv')"
   ]
  }
 ],
 "metadata": {
  "kernelspec": {
   "display_name": "base",
   "language": "python",
   "name": "python3"
  },
  "language_info": {
   "codemirror_mode": {
    "name": "ipython",
    "version": 3
   },
   "file_extension": ".py",
   "mimetype": "text/x-python",
   "name": "python",
   "nbconvert_exporter": "python",
   "pygments_lexer": "ipython3",
   "version": "3.8.19"
  }
 },
 "nbformat": 4,
 "nbformat_minor": 2
}
