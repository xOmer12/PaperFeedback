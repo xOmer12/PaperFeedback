{
 "cells": [
  {
   "cell_type": "code",
   "execution_count": 13,
   "metadata": {},
   "outputs": [],
   "source": [
    "import pandas as pd\n",
    "from sentence_transformers import SentenceTransformer\n",
    "import torch\n",
    "from torch.utils.data import DataLoader, Dataset\n",
    "import numpy as np\n",
    "from tqdm import tqdm\n",
    "from sklearn.cluster import KMeans\n"
   ]
  },
  {
   "cell_type": "code",
   "execution_count": 2,
   "metadata": {},
   "outputs": [],
   "source": [
    "PROJ_DIM = 25\n",
    "TOPIC_NUM = 20\n",
    "MIN_TOPIC_SIZE = 100000\n",
    "BATCH_SIZE = 256"
   ]
  },
  {
   "cell_type": "code",
   "execution_count": 3,
   "metadata": {},
   "outputs": [],
   "source": [
    "acm_df = pd.read_csv('/home/student/FinalProject/PaperFeedback/Datasets/acm_citation_network_v8.csv')"
   ]
  },
  {
   "cell_type": "code",
   "execution_count": 4,
   "metadata": {},
   "outputs": [],
   "source": [
    "acm_df['venue'] = acm_df['venue'].fillna('')\n",
    "acm_df['venue'] = acm_df['venue'].apply(lambda x: str(x))\n",
    "acm_df['id'] = range(len(acm_df))"
   ]
  },
  {
   "cell_type": "code",
   "execution_count": 5,
   "metadata": {},
   "outputs": [
    {
     "data": {
      "text/html": [
       "<div>\n",
       "<style scoped>\n",
       "    .dataframe tbody tr th:only-of-type {\n",
       "        vertical-align: middle;\n",
       "    }\n",
       "\n",
       "    .dataframe tbody tr th {\n",
       "        vertical-align: top;\n",
       "    }\n",
       "\n",
       "    .dataframe thead th {\n",
       "        text-align: right;\n",
       "    }\n",
       "</style>\n",
       "<table border=\"1\" class=\"dataframe\">\n",
       "  <thead>\n",
       "    <tr style=\"text-align: right;\">\n",
       "      <th></th>\n",
       "      <th>id</th>\n",
       "      <th>venue</th>\n",
       "    </tr>\n",
       "  </thead>\n",
       "  <tbody>\n",
       "    <tr>\n",
       "      <th>0</th>\n",
       "      <td>0</td>\n",
       "      <td>INFORMS Journal on Computing</td>\n",
       "    </tr>\n",
       "    <tr>\n",
       "      <th>1</th>\n",
       "      <td>1</td>\n",
       "      <td>Theoretical Computer Science</td>\n",
       "    </tr>\n",
       "    <tr>\n",
       "      <th>2</th>\n",
       "      <td>2</td>\n",
       "      <td>Theoretical Computer Science</td>\n",
       "    </tr>\n",
       "    <tr>\n",
       "      <th>3</th>\n",
       "      <td>3</td>\n",
       "      <td>Graphics Interface 1990</td>\n",
       "    </tr>\n",
       "    <tr>\n",
       "      <th>4</th>\n",
       "      <td>4</td>\n",
       "      <td>Using program slicing in software maintenance</td>\n",
       "    </tr>\n",
       "    <tr>\n",
       "      <th>...</th>\n",
       "      <td>...</td>\n",
       "      <td>...</td>\n",
       "    </tr>\n",
       "    <tr>\n",
       "      <th>2381670</th>\n",
       "      <td>2381670</td>\n",
       "      <td>The QCP File Format and Media Types for Speech...</td>\n",
       "    </tr>\n",
       "    <tr>\n",
       "      <th>2381671</th>\n",
       "      <td>2381671</td>\n",
       "      <td>Multicast Source Discovery Protocol (MSDP)</td>\n",
       "    </tr>\n",
       "    <tr>\n",
       "      <th>2381672</th>\n",
       "      <td>2381672</td>\n",
       "      <td>RTP Control Protocol Extended Reports (RTCP XR)</td>\n",
       "    </tr>\n",
       "    <tr>\n",
       "      <th>2381673</th>\n",
       "      <td>2381673</td>\n",
       "      <td>Uniform Resource Identifier (URI) Scheme and A...</td>\n",
       "    </tr>\n",
       "    <tr>\n",
       "      <th>2381674</th>\n",
       "      <td>2381674</td>\n",
       "      <td>A Uniform Resource Name (URN) Namespace for th...</td>\n",
       "    </tr>\n",
       "  </tbody>\n",
       "</table>\n",
       "<p>2381675 rows × 2 columns</p>\n",
       "</div>"
      ],
      "text/plain": [
       "              id                                              venue\n",
       "0              0                       INFORMS Journal on Computing\n",
       "1              1                       Theoretical Computer Science\n",
       "2              2                       Theoretical Computer Science\n",
       "3              3                            Graphics Interface 1990\n",
       "4              4      Using program slicing in software maintenance\n",
       "...          ...                                                ...\n",
       "2381670  2381670  The QCP File Format and Media Types for Speech...\n",
       "2381671  2381671         Multicast Source Discovery Protocol (MSDP)\n",
       "2381672  2381672    RTP Control Protocol Extended Reports (RTCP XR)\n",
       "2381673  2381673  Uniform Resource Identifier (URI) Scheme and A...\n",
       "2381674  2381674  A Uniform Resource Name (URN) Namespace for th...\n",
       "\n",
       "[2381675 rows x 2 columns]"
      ]
     },
     "execution_count": 5,
     "metadata": {},
     "output_type": "execute_result"
    }
   ],
   "source": [
    "acm_df[['id', 'venue']]"
   ]
  },
  {
   "cell_type": "code",
   "execution_count": 6,
   "metadata": {},
   "outputs": [],
   "source": [
    "class DocDataset(Dataset):\n",
    "    def __init__(self, df, doc_field):\n",
    "        self.df = df\n",
    "        self.doc_field = doc_field\n",
    "\n",
    "    def __len__(self):\n",
    "        return len(self.df)\n",
    "    \n",
    "    def __getitem__(self, index):\n",
    "        return self.df.iloc[index]['id'], self.df.iloc[index][self.doc_field]"
   ]
  },
  {
   "cell_type": "code",
   "execution_count": 7,
   "metadata": {},
   "outputs": [
    {
     "name": "stdout",
     "output_type": "stream",
     "text": [
      "using GPU\n"
     ]
    }
   ],
   "source": [
    "doc_dataset=  DocDataset(acm_df, doc_field='venue')\n",
    "doc_dataloader = DataLoader(doc_dataset, batch_size=BATCH_SIZE, shuffle=False, num_workers=8, pin_memory=True)\n",
    "if torch.cuda.is_available():\n",
    "    print('using GPU')\n",
    "    device = 'cuda'\n",
    "else:\n",
    "    print('using CPU')\n",
    "    device = 'cpu'\n",
    "model = SentenceTransformer('all-MiniLM-L6-v2')\n",
    "model = model.to(device)"
   ]
  },
  {
   "cell_type": "code",
   "execution_count": 8,
   "metadata": {},
   "outputs": [
    {
     "name": "stderr",
     "output_type": "stream",
     "text": [
      "100%|██████████| 9304/9304 [13:12<00:00, 11.74it/s]\n"
     ]
    }
   ],
   "source": [
    "doc_embeddings = []\n",
    "with torch.no_grad():\n",
    "    for _, batch in tqdm(doc_dataloader):\n",
    "        batch_embeddings = model.encode(batch, convert_to_tensor=True, show_progress_bar=False)\n",
    "        doc_embeddings.extend(batch_embeddings.cpu().numpy())"
   ]
  },
  {
   "cell_type": "code",
   "execution_count": 9,
   "metadata": {},
   "outputs": [],
   "source": [
    "doc_embeddings = np.array(doc_embeddings)"
   ]
  },
  {
   "cell_type": "code",
   "execution_count": 14,
   "metadata": {},
   "outputs": [
    {
     "name": "stderr",
     "output_type": "stream",
     "text": [
      "Fitting KMeans:   0%|          | 0/1 [00:00<?, ?it/s]huggingface/tokenizers: The current process just got forked, after parallelism has already been used. Disabling parallelism to avoid deadlocks...\n",
      "To disable this warning, you can either:\n",
      "\t- Avoid using `tokenizers` before the fork if possible\n",
      "\t- Explicitly set the environment variable TOKENIZERS_PARALLELISM=(true | false)\n"
     ]
    },
    {
     "ename": "KeyboardInterrupt",
     "evalue": "",
     "output_type": "error",
     "traceback": [
      "\u001b[0;31m---------------------------------------------------------------------------\u001b[0m",
      "\u001b[0;31mKeyboardInterrupt\u001b[0m                         Traceback (most recent call last)",
      "File \u001b[0;32m<__array_function__ internals>:179\u001b[0m, in \u001b[0;36mwhere\u001b[0;34m(*args, **kwargs)\u001b[0m\n",
      "\u001b[0;31mKeyboardInterrupt\u001b[0m: "
     ]
    },
    {
     "name": "stderr",
     "output_type": "stream",
     "text": [
      "Exception ignored in: 'sklearn.cluster._k_means_common._relocate_empty_clusters_dense'\n",
      "Traceback (most recent call last):\n",
      "  File \"<__array_function__ internals>\", line 179, in where\n",
      "KeyboardInterrupt: \n",
      "Fitting KMeans: 100%|██████████| 1/1 [08:25<00:00, 505.94s/it]\n"
     ]
    }
   ],
   "source": [
    "kmeans_model = KMeans(n_clusters=TOPIC_NUM, init='k-means++', max_iter=200, n_init=5, random_state=42, algorithm='elkan')\n",
    "doc_clusters = kmeans_model.fit_predict(doc_embeddings)\n",
    "\n"
   ]
  }
 ],
 "metadata": {
  "kernelspec": {
   "display_name": "base",
   "language": "python",
   "name": "python3"
  },
  "language_info": {
   "codemirror_mode": {
    "name": "ipython",
    "version": 3
   },
   "file_extension": ".py",
   "mimetype": "text/x-python",
   "name": "python",
   "nbconvert_exporter": "python",
   "pygments_lexer": "ipython3",
   "version": "3.8.19"
  }
 },
 "nbformat": 4,
 "nbformat_minor": 2
}
