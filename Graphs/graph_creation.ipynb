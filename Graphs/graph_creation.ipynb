{
 "cells": [
  {
   "cell_type": "code",
   "execution_count": 3,
   "metadata": {},
   "outputs": [],
   "source": [
    "\n",
    "import pandas as pd\n",
    "import torch\n",
    "from torch_geometric.data import Data\n"
   ]
  },
  {
   "cell_type": "code",
   "execution_count": 10,
   "metadata": {},
   "outputs": [],
   "source": [
    "network_data = pd.read_csv('/home/student/FinalProject/PaperFeedback/Datasets/citation_network_data.csv')"
   ]
  },
  {
   "cell_type": "code",
   "execution_count": 14,
   "metadata": {},
   "outputs": [
    {
     "data": {
      "text/plain": [
       "Index(['id', 'title', 'year', 'author_name', 'author_org', 'author_id',\n",
       "       'n_citation', 'doc_type', 'reference_count', 'references', 'venue_id',\n",
       "       'venue_name', 'venue_type', 'doi', 'keyword', 'volume', 'issue',\n",
       "       'publisher', 'weight', 'indexed_keyword', 'inverted_index'],\n",
       "      dtype='object')"
      ]
     },
     "execution_count": 14,
     "metadata": {},
     "output_type": "execute_result"
    }
   ],
   "source": [
    "network_data.columns"
   ]
  },
  {
   "cell_type": "code",
   "execution_count": 41,
   "metadata": {},
   "outputs": [],
   "source": [
    "def max_weight_keyword(keywords, weights):\n",
    "    keys = str(keywords).split(';')\n",
    "    weight_vector = [float(x) for x in str(weights).split(';')]\n",
    "    return keys[weight_vector.index(max(weight_vector))]\n",
    "\n",
    "network_data['primary_keyword'] = network_data[['keyword', 'weight']].apply(lambda row: max_weight_keyword(row['keyword'], row['weight']), axis=1)"
   ]
  },
  {
   "cell_type": "code",
   "execution_count": 42,
   "metadata": {},
   "outputs": [
    {
     "data": {
      "text/plain": [
       "67051"
      ]
     },
     "execution_count": 42,
     "metadata": {},
     "output_type": "execute_result"
    }
   ],
   "source": [
    "len(set(network_data['primary_keyword']))"
   ]
  },
  {
   "cell_type": "code",
   "execution_count": null,
   "metadata": {},
   "outputs": [],
   "source": [
    "def build_graph_dataset(data, relation_type='citations' ,labels='primary_keyword'):\n",
    "    edges = []\n",
    "\n",
    "    if relation_type == 'citation':\n",
    "        for _, row in data.iterrow():\n",
    "            paper_id = row['id']\n",
    "            cited_papers = eval(row['citations'])\n",
    "            for cited_paper in cited_papers:\n",
    "                edges.append([paper_id, cited_paper])\n",
    "\n",
    "    elif relation_type == 'co-citation': \n",
    "        pass\n",
    "\n",
    "    elif relation_type == 'bibliographic_coupling':\n",
    "        pass\n",
    "\n",
    "    elif relation_type == 'author_collaboration':\n",
    "        pass\n",
    "\n",
    "    else:\n",
    "        raise Exception('Illegal relation type')           \n",
    "\n",
    "\n",
    "    edge_index = torch.tensor(edges, dtype=torch.long).t().contiguous()\n",
    "    X = torch.eye(len(data))\n",
    "    node_labels = pd.Categorical(data[labels]).codes\n",
    "    y = torch.tensor(node_labels, dtype=torch.long)\n",
    "    graph_dataset = Data(x=X, edge_index=edge_index, y=y)\n",
    "    return graph_dataset  \n",
    "\n",
    "    "
   ]
  }
 ],
 "metadata": {
  "kernelspec": {
   "display_name": "base",
   "language": "python",
   "name": "python3"
  },
  "language_info": {
   "codemirror_mode": {
    "name": "ipython",
    "version": 3
   },
   "file_extension": ".py",
   "mimetype": "text/x-python",
   "name": "python",
   "nbconvert_exporter": "python",
   "pygments_lexer": "ipython3",
   "version": "3.8.19"
  }
 },
 "nbformat": 4,
 "nbformat_minor": 2
}
